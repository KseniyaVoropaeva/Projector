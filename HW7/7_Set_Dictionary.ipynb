{
 "cells": [
  {
   "cell_type": "code",
   "execution_count": 24,
   "metadata": {},
   "outputs": [],
   "source": [
    "import random\n",
    "from collections import Counter\n"
   ]
  },
  {
   "attachments": {},
   "cell_type": "markdown",
   "metadata": {},
   "source": [
    "## Write a game where the user should guess the capital of the country that you have in your dictionary.\n"
   ]
  },
  {
   "cell_type": "code",
   "execution_count": 2,
   "metadata": {},
   "outputs": [],
   "source": [
    "capitals = {\n",
    "    'Ukraine': 'Kyiv',\n",
    "    'France': 'Paris',\n",
    "    'Germany': 'Berlin',\n",
    "    'Italy': 'Rome',\n",
    "    'USA': 'Washington',\n",
    "    'Canada': 'Ottawa',\n",
    "    'Switzerland': 'Bern',\n",
    "    'Austria': 'Vienna',\n",
    "    'Belgium': 'Brussels',\n",
    "    'Sweden': 'Stockholm',\n",
    "    'Norway': 'Oslo',\n",
    "    'Denmark': 'Copenhagen',\n",
    "    'Finland': 'Helsinki',\n",
    "    'Poland': 'Warsaw',\n",
    "    'Romania': 'Bucharest',\n",
    "    'Bulgaria': 'Sofia',\n",
    "    'Greece': 'Athens',\n",
    "    'Spain': 'Madrid',\n",
    "    'Portugal': 'Lisbon',\n",
    "    'Netherlands': 'Amsterdam',\n",
    "    'United Kingdom': 'London',\n",
    "    'Ireland': 'Dublin',\n",
    "    'Russia': 'Moscow',\n",
    "    'China': 'Beijing',\n",
    "    'India': 'New Delhi',\n",
    "    'Brazil': 'Brasilia',\n",
    "    'Mexico': 'Mexico City',\n",
    "    'Australia': 'Canberra',\n",
    "    'Japan': 'Tokyo',\n",
    "    'South Africa': 'Pretoria',\n",
    "    'Egypt': 'Cairo',\n",
    "}\n"
   ]
  },
  {
   "cell_type": "code",
   "execution_count": 6,
   "metadata": {},
   "outputs": [],
   "source": [
    "def guess_game():\n",
    "    points = 0\n",
    "    lives = 3\n",
    "\n",
    "    while lives > 0:\n",
    "        random_country = random.choice(list(capitals.keys()))\n",
    "        user_capital = input(f\"Input the capital of {random_country}: \")\n",
    "\n",
    "        if user_capital.lower() == \"exit\":\n",
    "            break\n",
    "\n",
    "        if user_capital == capitals[random_country]:\n",
    "            points += 1\n",
    "            print(f\"You are right! Your current score = {points}.\")\n",
    "            continue\n",
    "\n",
    "        hint = capitals[random_country][0]\n",
    "        print(\n",
    "            f\"You were wrong, but you have a second try. The first letter of the capital of {random_country} is {hint}.\"\n",
    "        )\n",
    "\n",
    "        second_guess = input(\"Please enter your second guess: \")\n",
    "\n",
    "        if second_guess == capitals[random_country]:\n",
    "            points += 1\n",
    "            print(f\"You are right! Your current score = {points}.\")\n",
    "        else:\n",
    "            lives -= 1\n",
    "            print(\n",
    "                f\"You were wrong. The capital of {random_country} is {capitals[random_country]}. Lives = {lives}.\"\n",
    "            )\n",
    "\n",
    "    print(f\"Final score: {points}\")\n",
    "    return points"
   ]
  },
  {
   "cell_type": "code",
   "execution_count": 7,
   "metadata": {},
   "outputs": [
    {
     "name": "stdout",
     "output_type": "stream",
     "text": [
      "You were wrong, but you have a second try. The first letter of the capital of Denmark is C.\n",
      "You were wrong. The capital of Denmark is Copenhagen. Lives = 2.\n",
      "You were wrong, but you have a second try. The first letter of the capital of Canada is O.\n",
      "You were wrong. The capital of Canada is Ottawa. Lives = 1.\n",
      "You were wrong, but you have a second try. The first letter of the capital of Finland is H.\n",
      "You were wrong. The capital of Finland is Helsinki. Lives = 0.\n",
      "Final score: 0\n",
      "You`ve just finish the game. Your points =  0\n"
     ]
    }
   ],
   "source": [
    "print(\"You`ve just finish the game. Your points = \", guess_game())"
   ]
  },
  {
   "attachments": {},
   "cell_type": "markdown",
   "metadata": {},
   "source": [
    "## 2. Optional Given a Roman numeral, convert it to an integer.Roman numerals are represented by seven different symbols: I, V, X, L, C, D and M.\n"
   ]
  },
  {
   "cell_type": "code",
   "execution_count": 34,
   "metadata": {},
   "outputs": [],
   "source": [
    "symbol_value = {\"I\": 1, \"V\": 5, \"X\": 10, \"L\": 50, \"C\": 100, \"D\": 500, \"M\": 1000}\n",
    "keys = list(symbol_value.keys())"
   ]
  },
  {
   "attachments": {},
   "cell_type": "markdown",
   "metadata": {},
   "source": [
    "I can be placed before V (5) and X (10) to make 4 and 9.\n",
    "\n",
    "X can be placed before L (50) and C (100) to make 40 and 90.\n",
    "\n",
    "C can be placed before D (500) and M (1000) to make 400 and 900."
   ]
  },
  {
   "cell_type": "code",
   "execution_count": 35,
   "metadata": {},
   "outputs": [],
   "source": [
    "def roman_to_int(s: str) -> int:\n",
    "    res = 0\n",
    "    for i, value_i in enumerate(s):\n",
    "        if i != len(s)-1:\n",
    "            if symbol_value[value_i] < symbol_value[s[i+1]]:\n",
    "                res -= symbol_value[value_i]\n",
    "            else:\n",
    "                res += symbol_value[value_i]\n",
    "        else:\n",
    "            res += symbol_value[value_i]\n",
    "    return res"
   ]
  },
  {
   "cell_type": "code",
   "execution_count": 36,
   "metadata": {},
   "outputs": [
    {
     "data": {
      "text/plain": [
       "1994"
      ]
     },
     "execution_count": 36,
     "metadata": {},
     "output_type": "execute_result"
    }
   ],
   "source": [
    "roman_to_int(\"MCMXCIV\")"
   ]
  },
  {
   "cell_type": "code",
   "execution_count": 37,
   "metadata": {},
   "outputs": [],
   "source": [
    "def test_roman_to_int():\n",
    "    result1 = roman_to_int(\"III\")\n",
    "    assert result1 == 3\n",
    "    result1 = roman_to_int(\"LVIII\")\n",
    "    assert result1 == 58\n",
    "    result1 = roman_to_int(\"MCMXCIV\")\n",
    "    assert result1 == 1994"
   ]
  },
  {
   "attachments": {},
   "cell_type": "markdown",
   "metadata": {},
   "source": [
    "## 3. Optional Try to create a function that will do reverse operation - from integer to Roman"
   ]
  },
  {
   "attachments": {},
   "cell_type": "markdown",
   "metadata": {},
   "source": [
    "Якщо чесно, то я не змогла вирішити сама це завдання. Я гуглила рішення і зрозуміла, як його виконувати, але не бачу сенс копіювати його сюди.("
   ]
  },
  {
   "cell_type": "code",
   "execution_count": null,
   "metadata": {},
   "outputs": [],
   "source": []
  },
  {
   "attachments": {},
   "cell_type": "markdown",
   "metadata": {},
   "source": [
    "## 4. Given a list of integers of size n, return the majority element.\n"
   ]
  },
  {
   "cell_type": "code",
   "execution_count": 23,
   "metadata": {},
   "outputs": [],
   "source": [
    "def majority_element(nums: list) -> int:\n",
    "    m = sorted(Counter(nums).items(), reverse=True, key = lambda x: x[1])\n",
    "    return m[0][0]"
   ]
  },
  {
   "cell_type": "code",
   "execution_count": 58,
   "metadata": {},
   "outputs": [
    {
     "name": "stdout",
     "output_type": "stream",
     "text": [
      "8\n"
     ]
    }
   ],
   "source": [
    "print(majority_element([9, 8, 8, 8, 7, 7]))"
   ]
  },
  {
   "cell_type": "code",
   "execution_count": 59,
   "metadata": {},
   "outputs": [],
   "source": [
    "def test_majority_element():\n",
    "    result1 = majority_element([3, 2, 3])\n",
    "    assert result1 == 3\n",
    "\n",
    "    result1 = majority_element([2, 2, 1, 1, 1, 2, 2])\n",
    "    assert result1 == 2"
   ]
  },
  {
   "attachments": {},
   "cell_type": "markdown",
   "metadata": {},
   "source": [
    "## 5. Find missing subjects"
   ]
  },
  {
   "cell_type": "code",
   "execution_count": 15,
   "metadata": {},
   "outputs": [],
   "source": [
    "def get_subjects_not_passed_by_all_students(student_exams):\n",
    "\n",
    "    return set([i[2] for i in student_exams if i[1] < 60])"
   ]
  },
  {
   "cell_type": "code",
   "execution_count": 16,
   "metadata": {},
   "outputs": [],
   "source": [
    "exams = [\n",
    "        (\"Alice\", 85, \"Math\"),\n",
    "        (\"Bob\", 59, \"Math\"),\n",
    "        (\"Charlie\", 65, \"Math\"),\n",
    "        (\"Alice\", 30, \"Science\"),\n",
    "        (\"Bob\", 80, \"Science\"),\n",
    "        (\"Charlie\", 32, \"Science\"),\n",
    "        (\"Alice\", 95, \"History\"),\n",
    "        (\"Bob\", 85, \"History\"),\n",
    "        (\"Charlie\", 90, \"History\"),\n",
    "    ]"
   ]
  },
  {
   "cell_type": "code",
   "execution_count": 17,
   "metadata": {},
   "outputs": [
    {
     "name": "stdout",
     "output_type": "stream",
     "text": [
      "{'Math', 'Science'}\n"
     ]
    }
   ],
   "source": [
    "print(get_subjects_not_passed_by_all_students(exams))"
   ]
  },
  {
   "cell_type": "code",
   "execution_count": null,
   "metadata": {},
   "outputs": [],
   "source": []
  }
 ],
 "metadata": {
  "kernelspec": {
   "display_name": "Python 3",
   "language": "python",
   "name": "python3"
  },
  "language_info": {
   "codemirror_mode": {
    "name": "ipython",
    "version": 3
   },
   "file_extension": ".py",
   "mimetype": "text/x-python",
   "name": "python",
   "nbconvert_exporter": "python",
   "pygments_lexer": "ipython3",
   "version": "3.10.4"
  },
  "orig_nbformat": 4
 },
 "nbformat": 4,
 "nbformat_minor": 2
}
