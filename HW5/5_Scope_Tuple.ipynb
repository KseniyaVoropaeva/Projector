{
 "cells": [
  {
   "attachments": {},
   "cell_type": "markdown",
   "metadata": {},
   "source": [
    "### 1. Write a program that asks the user to enter an integer and convert it to an int. "
   ]
  },
  {
   "cell_type": "code",
   "execution_count": 4,
   "metadata": {},
   "outputs": [],
   "source": [
    "def get_int_number():\n",
    "    n = input(\"Input an integer number\")\n",
    "    return n"
   ]
  },
  {
   "cell_type": "code",
   "execution_count": 20,
   "metadata": {},
   "outputs": [],
   "source": [
    "def receive_int_number():\n",
    "    try:\n",
    "        n = int(get_int_number())\n",
    "        return n\n",
    "    except:\n",
    "        print(\"That is not an integer\")\n",
    "        return receive_int_number()\n"
   ]
  },
  {
   "cell_type": "code",
   "execution_count": 23,
   "metadata": {},
   "outputs": [
    {
     "name": "stdout",
     "output_type": "stream",
     "text": [
      "That is not an integer\n",
      "That is not an integer\n",
      "That is not an integer\n",
      "5\n"
     ]
    }
   ],
   "source": [
    "print(receive_int_number())"
   ]
  },
  {
   "attachments": {},
   "cell_type": "markdown",
   "metadata": {},
   "source": [
    "### 2.Write a program that asks the user to input a string and an integer n."
   ]
  },
  {
   "cell_type": "code",
   "execution_count": 9,
   "metadata": {},
   "outputs": [],
   "source": [
    "def get_string_n():\n",
    "    s = input(\"Input a string\")\n",
    "    n = input(\"Input an integer number\")\n",
    "\n",
    "    return s, n"
   ]
  },
  {
   "cell_type": "code",
   "execution_count": 15,
   "metadata": {},
   "outputs": [],
   "source": [
    "def receive_index_n():\n",
    "    result = get_string_n()\n",
    "    s = result[0]\n",
    "    n = result[1]\n",
    "    try:\n",
    "        n = int(n)\n",
    "        ind = s[n]\n",
    "        return ind\n",
    "    except ValueError:\n",
    "        print(\"n is not an integer\")\n",
    "        return receive_index_n()\n",
    "    except IndexError:\n",
    "        print(\"String index out of range\")\n",
    "        return receive_index_n()\n",
    "\n",
    "\n"
   ]
  },
  {
   "cell_type": "code",
   "execution_count": 16,
   "metadata": {},
   "outputs": [
    {
     "name": "stdout",
     "output_type": "stream",
     "text": [
      "n is not an integer\n",
      "String index out of range\n",
      "s\n"
     ]
    }
   ],
   "source": [
    "print(receive_index_n())"
   ]
  },
  {
   "attachments": {},
   "cell_type": "markdown",
   "metadata": {},
   "source": [
    "### 3. Transaction"
   ]
  },
  {
   "cell_type": "code",
   "execution_count": 17,
   "metadata": {},
   "outputs": [],
   "source": [
    "balance = 1000"
   ]
  },
  {
   "cell_type": "code",
   "execution_count": 35,
   "metadata": {},
   "outputs": [],
   "source": [
    "def transaction(amount, argument_type):\n",
    "    def deposit():\n",
    "        final_balance = balance + amount\n",
    "        return final_balance\n",
    "    def withdrawal():\n",
    "        final_balance = balance - amount\n",
    "        return final_balance\n",
    "    if argument_type == 'deposit':\n",
    "        return deposit()\n",
    "    elif argument_type == 'withdrawal':\n",
    "        return withdrawal()\n",
    "    else:\n",
    "        return 'Invalid argument_type'"
   ]
  },
  {
   "cell_type": "code",
   "execution_count": 36,
   "metadata": {},
   "outputs": [
    {
     "name": "stdout",
     "output_type": "stream",
     "text": [
      "1500\n"
     ]
    }
   ],
   "source": [
    "print(transaction(500, 'deposit'))"
   ]
  },
  {
   "cell_type": "code",
   "execution_count": 37,
   "metadata": {},
   "outputs": [
    {
     "name": "stdout",
     "output_type": "stream",
     "text": [
      "500\n"
     ]
    }
   ],
   "source": [
    "print(transaction(500, 'withdrawal'))"
   ]
  },
  {
   "cell_type": "code",
   "execution_count": 38,
   "metadata": {},
   "outputs": [
    {
     "name": "stdout",
     "output_type": "stream",
     "text": [
      "Invalid argument_type\n"
     ]
    }
   ],
   "source": [
    "print(transaction(500, 'zero'))"
   ]
  },
  {
   "attachments": {},
   "cell_type": "markdown",
   "metadata": {},
   "source": [
    "### 4. Write a function that simulates a dice roll and returns the result from 1 to 6. Use random module\n"
   ]
  },
  {
   "cell_type": "code",
   "execution_count": 15,
   "metadata": {},
   "outputs": [],
   "source": [
    "import random"
   ]
  },
  {
   "cell_type": "code",
   "execution_count": 65,
   "metadata": {},
   "outputs": [],
   "source": [
    "def dice_roll():\n",
    "    return random.randint(1, 6)"
   ]
  },
  {
   "cell_type": "code",
   "execution_count": 99,
   "metadata": {},
   "outputs": [
    {
     "name": "stdout",
     "output_type": "stream",
     "text": [
      "You rolled a dice, you got a 5\n"
     ]
    }
   ],
   "source": [
    "print(f\"You rolled a dice, you got a {dice_roll()}\")\n"
   ]
  },
  {
   "attachments": {},
   "cell_type": "markdown",
   "metadata": {},
   "source": [
    "### 5. Use the function from the previous task to simulate 1000 dice rolls and print the result. Calculate the number of times each number was rolled."
   ]
  },
  {
   "cell_type": "code",
   "execution_count": 78,
   "metadata": {},
   "outputs": [],
   "source": [
    "def calculate_dice_roll():\n",
    "    roll_dict = {1: 0, 2: 0, 3: 0, 4: 0, 5: 0, 6: 0}\n",
    "    for _ in range(1000):\n",
    "        n = dice_roll()\n",
    "        if n in roll_dict:\n",
    "            roll_dict[n] += 1\n",
    "    return roll_dict"
   ]
  },
  {
   "cell_type": "code",
   "execution_count": 79,
   "metadata": {},
   "outputs": [
    {
     "name": "stdout",
     "output_type": "stream",
     "text": [
      "{1: 170, 2: 171, 3: 159, 4: 157, 5: 173, 6: 170}\n"
     ]
    }
   ],
   "source": [
    "print(calculate_dice_roll())"
   ]
  },
  {
   "attachments": {},
   "cell_type": "markdown",
   "metadata": {},
   "source": [
    "Спосіб 2"
   ]
  },
  {
   "cell_type": "code",
   "execution_count": 76,
   "metadata": {},
   "outputs": [],
   "source": [
    "from collections import Counter\n",
    "\n",
    "def calculate_dice_roll_Counter():\n",
    "    rolls = [dice_roll() for _ in range(1000)]\n",
    "    roll_dict = dict(sorted(Counter(rolls).items()))\n",
    "    return roll_dict\n"
   ]
  },
  {
   "cell_type": "code",
   "execution_count": 77,
   "metadata": {},
   "outputs": [
    {
     "name": "stdout",
     "output_type": "stream",
     "text": [
      "{1: 179, 2: 194, 3: 163, 4: 144, 5: 156, 6: 164}\n"
     ]
    }
   ],
   "source": [
    "print(calculate_dice_roll_Counter())"
   ]
  },
  {
   "attachments": {},
   "cell_type": "markdown",
   "metadata": {},
   "source": [
    "### 6. Simulate an election for two candidates. "
   ]
  },
  {
   "cell_type": "code",
   "execution_count": 153,
   "metadata": {},
   "outputs": [],
   "source": [
    "def election(regions: int, rating: list):\n",
    "    if regions != len(rating):\n",
    "        return \"The number of regions does not match the number of values rating of the 1st candidate\"\n",
    "    else:\n",
    "        votes = []\n",
    "        for i in rating:\n",
    "            votes.append(random.randint(i * 100 - 1000, i * 100 + 1000))  #\n",
    "            candidate = \"first\" if votes[-1] >= 5000 else \"second\"\n",
    "            print(\n",
    "                f\"First candidate has {votes[-1]} votes, while the second candidate has {10000-votes[-1]} votes. The {candidate} candidate wins.\"\n",
    "            )\n",
    "        sum_votes = round(sum(votes) / regions / 100, 2)\n",
    "        res = \"first\" if sum_votes > 50 else \"second\", sum_votes if sum_votes > 50 else 100 - sum_votes\n",
    "    return f\"The winner is the {res[0]} candidate. He received {res[1]} percent of the votes.\""
   ]
  },
  {
   "cell_type": "code",
   "execution_count": 158,
   "metadata": {},
   "outputs": [
    {
     "name": "stdout",
     "output_type": "stream",
     "text": [
      "The number of regions does not match the number of values rating of the 1st candidate\n"
     ]
    }
   ],
   "source": [
    "res_1 = election(4, [50, 40, 30, 70, 55])\n",
    "print(res_1)"
   ]
  },
  {
   "cell_type": "code",
   "execution_count": 159,
   "metadata": {},
   "outputs": [
    {
     "name": "stdout",
     "output_type": "stream",
     "text": [
      "First candidate has 6317 votes, while the second candidate has 3683 votes. The first candidate wins.\n",
      "First candidate has 7179 votes, while the second candidate has 2821 votes. The first candidate wins.\n",
      "First candidate has 9926 votes, while the second candidate has 74 votes. The first candidate wins.\n",
      "First candidate has 2871 votes, while the second candidate has 7129 votes. The second candidate wins.\n",
      "First candidate has 5147 votes, while the second candidate has 4853 votes. The first candidate wins.\n",
      "The winner is the first candidate. He received 62.88 percent of the votes.\n"
     ]
    }
   ],
   "source": [
    "res_2 = election(5, [55, 67.2, 98, 33.1, 41.5])\n",
    "print(res_2)"
   ]
  },
  {
   "attachments": {},
   "cell_type": "markdown",
   "metadata": {},
   "source": [
    "Варіант 2\n"
   ]
  },
  {
   "cell_type": "code",
   "execution_count": 34,
   "metadata": {},
   "outputs": [],
   "source": [
    "def receive_input():\n",
    "    regions = int(input(\"Enter the number of regions: \"))\n",
    "    rating = []\n",
    "    for i in range(regions):\n",
    "        rating.append(int(input(f\"Enter a rating for 1st candidate in {i+1} region: \")))\n",
    "    return rating\n",
    "\n",
    "\n",
    "def simulate_election(rating):\n",
    "    votes = []\n",
    "    for i, value in enumerate(rating):\n",
    "        votes.append(random.randint(value * 100 - 1000, value * 100 + 1000))\n",
    "        print(\n",
    "            f\"Region {i+1}: {votes[-1]} votes for 1st candidate, {10000 - votes[-1]} votes for 2nd candidate\"\n",
    "        )\n",
    "    return votes\n",
    "\n",
    "\n",
    "def calculate_result(votes):\n",
    "    sum_votes = round(sum(votes) / len(votes) / 100, 2)\n",
    "    return sum_votes\n",
    "\n",
    "\n",
    "def announce_result(sum_votes):\n",
    "    res = (\n",
    "        \"first\" if sum_votes > 50 else \"second\",\n",
    "        sum_votes if sum_votes > 50 else 100 - sum_votes,\n",
    "    )\n",
    "    return f\"The winner is the {res[0]} candidate. He received {res[1]} percent of the votes.\"\n"
   ]
  },
  {
   "cell_type": "code",
   "execution_count": 35,
   "metadata": {},
   "outputs": [
    {
     "name": "stdout",
     "output_type": "stream",
     "text": [
      "Region 1: 2233 votes for 1st candidate, 7767 votes for 2nd candidate\n",
      "Region 2: 2739 votes for 1st candidate, 7261 votes for 2nd candidate\n",
      "Region 3: 4645 votes for 1st candidate, 5355 votes for 2nd candidate\n"
     ]
    },
    {
     "data": {
      "text/plain": [
       "'The winner is the second candidate. He received 67.94 percent of the votes.'"
      ]
     },
     "execution_count": 35,
     "metadata": {},
     "output_type": "execute_result"
    }
   ],
   "source": [
    "input_data = receive_input()\n",
    "\n",
    "election_result = simulate_election(input_data)\n",
    "\n",
    "result = calculate_result(election_result)\n",
    "\n",
    "announce_result(result)"
   ]
  },
  {
   "cell_type": "code",
   "execution_count": null,
   "metadata": {},
   "outputs": [],
   "source": []
  }
 ],
 "metadata": {
  "kernelspec": {
   "display_name": "Python 3",
   "language": "python",
   "name": "python3"
  },
  "language_info": {
   "codemirror_mode": {
    "name": "ipython",
    "version": 3
   },
   "file_extension": ".py",
   "mimetype": "text/x-python",
   "name": "python",
   "nbconvert_exporter": "python",
   "pygments_lexer": "ipython3",
   "version": "3.10.4"
  },
  "orig_nbformat": 4
 },
 "nbformat": 4,
 "nbformat_minor": 2
}
