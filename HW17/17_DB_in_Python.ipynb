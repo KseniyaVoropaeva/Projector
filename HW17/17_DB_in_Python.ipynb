{
  "nbformat": 4,
  "nbformat_minor": 0,
  "metadata": {
    "colab": {
      "provenance": []
    },
    "kernelspec": {
      "name": "python3",
      "display_name": "Python 3"
    },
    "language_info": {
      "name": "python"
    }
  },
  "cells": [
    {
      "cell_type": "code",
      "source": [
        "from sqlalchemy import create_engine, Column, Integer, String, ForeignKey\n",
        "from sqlalchemy.orm import relationship\n",
        "from sqlalchemy.ext.declarative import declarative_base\n",
        "\n",
        "Base = declarative_base()\n",
        "\n",
        "class Student(Base):\n",
        "    __tablename__ = 'student'\n",
        "\n",
        "    id = Column(Integer, primary_key=True)\n",
        "    name = Column(String)\n",
        "    age = Column(Integer)\n",
        "\n",
        "    def __str__(self):\n",
        "        return f'This is {self.id} student {self.name}. Age: {self.age}'\n",
        "\n",
        "    def __repr__(self):\n",
        "        return f'This is {self.id} student {self.name}. Age: {self.age}'\n",
        "\n",
        "class Subject(Base):\n",
        "    __tablename__ = 'subject'\n",
        "\n",
        "    id = Column(Integer, primary_key=True)\n",
        "    name = Column(String)\n",
        "\n",
        "    def __str__(self):\n",
        "        return f'Subject {self.name}'\n",
        "\n",
        "    def __repr__(self):\n",
        "        return f'Subject {self.name}'\n",
        "\n",
        "class StudentSubject(Base):\n",
        "    __tablename__ = 'student_subject'\n",
        "\n",
        "    id = Column(Integer, primary_key=True)\n",
        "    student_id = Column(Integer, ForeignKey('student.id'))\n",
        "    subject_id = Column(Integer, ForeignKey('subject.id'))\n",
        "\n",
        "    student = relationship(\"Student\")\n",
        "    subject = relationship(\"Subject\")\n",
        "\n",
        "    def __str__(self):\n",
        "        return f'Student {self.student_id} is enrolled in Subject {self.subject_id}'\n",
        "\n",
        "    def __repr__(self):\n",
        "        return f'Student {self.student_id} is enrolled in Subject {self.subject_id}'\n",
        "\n",
        "DATABASE_URI = 'postgresql://{user}:{password}@{host}:{port}/{database}'\n",
        "\n",
        "\n",
        "engine = create_engine(\n",
        "    DATABASE_URI.format(\n",
        "        host='dumbo.db.elephantsql.com',\n",
        "        database='shipfodm',\n",
        "        user='shipfodm',\n",
        "        password='bJo0TT1z5RGalO3A7zWqLVnSC-mrsYFb',\n",
        "        port=5432,\n",
        "    )\n",
        ")\n",
        "Base.metadata.create_all(engine)\n"
      ],
      "metadata": {
        "colab": {
          "base_uri": "https://localhost:8080/"
        },
        "id": "bqhINDxRT8Fb",
        "outputId": "c1eccb1b-f1ed-4cce-bd48-81d363788cd3"
      },
      "execution_count": 1,
      "outputs": [
        {
          "output_type": "stream",
          "name": "stderr",
          "text": [
            "<ipython-input-1-78730f20a764>:5: MovedIn20Warning: The ``declarative_base()`` function is now available as sqlalchemy.orm.declarative_base(). (deprecated since: 2.0) (Background on SQLAlchemy 2.0 at: https://sqlalche.me/e/b8d9)\n",
            "  Base = declarative_base()\n"
          ]
        }
      ]
    },
    {
      "cell_type": "code",
      "source": [
        "from sqlalchemy.orm import sessionmaker\n",
        "\n",
        "Session = sessionmaker(bind=engine)\n",
        "session = Session()\n",
        "\n",
        "student1 = Student(name='Alice', age=20)\n",
        "student2 = Student(name='Bob', age=22)\n",
        "student3 = Student(name='Carol', age=21)\n",
        "\n",
        "subject1 = Subject(name='Math')\n",
        "subject2 = Subject(name='English')\n",
        "subject3 = Subject(name='History')\n",
        "\n",
        "session.add_all([student1, student2, student3])\n",
        "session.add_all([subject1, subject2, subject3])\n",
        "session.commit()\n",
        "\n",
        "enrollment1 = StudentSubject(student=student1, subject=subject2)\n",
        "enrollment2 = StudentSubject(student=student2, subject=subject1)\n",
        "enrollment3 = StudentSubject(student=student3, subject=subject2)\n",
        "enrollment4 = StudentSubject(student=student3, subject=subject3)\n",
        "\n",
        "session.add_all([enrollment1, enrollment2, enrollment3, enrollment4])\n",
        "session.commit()\n",
        "\n",
        "session.close()\n"
      ],
      "metadata": {
        "id": "b_-dl83JSx41"
      },
      "execution_count": 3,
      "outputs": []
    },
    {
      "cell_type": "code",
      "source": [
        "Session = sessionmaker(bind=engine)\n",
        "session = Session()\n",
        "\n",
        "english_students = session.query(Student).join(StudentSubject).join(Subject).filter(Subject.name == 'English').all()\n",
        "\n",
        "for student in english_students:\n",
        "    print(student.name)\n",
        "\n",
        "session.close()"
      ],
      "metadata": {
        "colab": {
          "base_uri": "https://localhost:8080/"
        },
        "id": "vXfDLZosVQEH",
        "outputId": "29a5b6d8-39df-4b33-b520-07e3373698c1"
      },
      "execution_count": 4,
      "outputs": [
        {
          "output_type": "stream",
          "name": "stdout",
          "text": [
            "Alice\n",
            "Carol\n"
          ]
        }
      ]
    },
    {
      "cell_type": "code",
      "source": [],
      "metadata": {
        "id": "F7y2ukqGV1Ud"
      },
      "execution_count": null,
      "outputs": []
    }
  ]
}