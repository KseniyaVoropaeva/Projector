{
  "nbformat": 4,
  "nbformat_minor": 0,
  "metadata": {
    "colab": {
      "provenance": []
    },
    "kernelspec": {
      "name": "python3",
      "display_name": "Python 3"
    },
    "language_info": {
      "name": "python"
    }
  },
  "cells": [
    {
      "cell_type": "markdown",
      "source": [
        "1. Create add method to add two countries together. This method should create another country object with the name of the two countries combined and the population of the two countries added together.\n",
        "\n",
        "bosnia = Country('Bosnia', 10_000_000)\n",
        "\n",
        "herzegovina = Country('Herzegovina', 5_000_000)\n",
        "\n",
        "bosnia_herzegovina = bosnia.add(herzegovina)\n",
        "\n",
        "bosnia_herzegovina.population -> 15_000_000\n",
        "\n",
        "bosnia_herzegovina.name -> 'Bosnia Herzegovina'\n",
        "\n"
      ],
      "metadata": {
        "id": "oPYwrpjo6T3g"
      }
    },
    {
      "cell_type": "code",
      "execution_count": 16,
      "metadata": {
        "id": "x9g1Qe8D6LYH"
      },
      "outputs": [],
      "source": [
        "class Country():\n",
        "  def __init__(self, name: str, population:int):\n",
        "    self.name = name\n",
        "    self.population = population\n",
        "  def add(self, other):\n",
        "    new_name = self.name + ' ' + other.name\n",
        "    new_popuulation = self.population + other.population\n",
        "    return Country(new_name, new_popuulation)"
      ]
    },
    {
      "cell_type": "code",
      "source": [
        "bosnia = Country('Bosnia', 10_000_000)\n",
        "\n",
        "herzegovina = Country('Herzegovina', 5_000_000)\n",
        "\n",
        "bosnia_herzegovina = bosnia.add(herzegovina)"
      ],
      "metadata": {
        "id": "4Fb_sxaK6-TQ"
      },
      "execution_count": 17,
      "outputs": []
    },
    {
      "cell_type": "code",
      "source": [
        "bosnia_herzegovina.name"
      ],
      "metadata": {
        "colab": {
          "base_uri": "https://localhost:8080/",
          "height": 35
        },
        "id": "jhouYMuq7DJ4",
        "outputId": "7f0df961-3248-44ea-eaf8-1f7b52d893d0"
      },
      "execution_count": 18,
      "outputs": [
        {
          "output_type": "execute_result",
          "data": {
            "text/plain": [
              "'Bosnia Herzegovina'"
            ],
            "application/vnd.google.colaboratory.intrinsic+json": {
              "type": "string"
            }
          },
          "metadata": {},
          "execution_count": 18
        }
      ]
    },
    {
      "cell_type": "code",
      "source": [
        "bosnia_herzegovina.population"
      ],
      "metadata": {
        "colab": {
          "base_uri": "https://localhost:8080/"
        },
        "id": "98mWr8Se8M5i",
        "outputId": "655fb922-6f46-422f-8819-a127827c05e0"
      },
      "execution_count": 19,
      "outputs": [
        {
          "output_type": "execute_result",
          "data": {
            "text/plain": [
              "15000000"
            ]
          },
          "metadata": {},
          "execution_count": 19
        }
      ]
    },
    {
      "cell_type": "markdown",
      "source": [
        "2. Implement previous method with magic method"
      ],
      "metadata": {
        "id": "4WyX0yCWmtoH"
      }
    },
    {
      "cell_type": "code",
      "source": [
        "class Country_1():\n",
        "  def __init__(self, name: str, population:int):\n",
        "    self.name = name\n",
        "    self.population = population\n",
        "  def __add__(self, other):\n",
        "    new_name = self.name + ' ' + other.name\n",
        "    new_popuulation = self.population + other.population\n",
        "    return Country_1(new_name, new_popuulation)"
      ],
      "metadata": {
        "id": "YgpqPLjimkX2"
      },
      "execution_count": 22,
      "outputs": []
    },
    {
      "cell_type": "code",
      "source": [
        "bosnia = Country_1('Bosnia', 10_000_000)\n",
        "\n",
        "herzegovina = Country_1('Herzegovina', 5_000_000)\n",
        "\n",
        "bosnia_herzegovina = bosnia + herzegovina"
      ],
      "metadata": {
        "id": "mQC6sj-MnlRL"
      },
      "execution_count": 25,
      "outputs": []
    },
    {
      "cell_type": "code",
      "source": [
        "bosnia_herzegovina.name"
      ],
      "metadata": {
        "colab": {
          "base_uri": "https://localhost:8080/",
          "height": 35
        },
        "id": "SHjP5uEhnuxw",
        "outputId": "f0b43750-0b98-4dea-8e7e-5dd68230b9fe"
      },
      "execution_count": 26,
      "outputs": [
        {
          "output_type": "execute_result",
          "data": {
            "text/plain": [
              "'Bosnia Herzegovina'"
            ],
            "application/vnd.google.colaboratory.intrinsic+json": {
              "type": "string"
            }
          },
          "metadata": {},
          "execution_count": 26
        }
      ]
    },
    {
      "cell_type": "code",
      "source": [
        "bosnia_herzegovina.population"
      ],
      "metadata": {
        "colab": {
          "base_uri": "https://localhost:8080/"
        },
        "id": "P5V8BYS3n-Y2",
        "outputId": "c99780f0-db29-468f-9fc6-7d4b05966dfe"
      },
      "execution_count": 27,
      "outputs": [
        {
          "output_type": "execute_result",
          "data": {
            "text/plain": [
              "15000000"
            ]
          },
          "metadata": {},
          "execution_count": 27
        }
      ]
    },
    {
      "cell_type": "markdown",
      "source": [
        "3. Create a Car class with the following attributes: brand, model, year, and speed. The Car class should have the following methods: accelerate and brake. The accelerate method should increase the speed by 5, and the brake method should decrease the speed by 5."
      ],
      "metadata": {
        "id": "rT3U_FgXoEhP"
      }
    },
    {
      "cell_type": "code",
      "source": [
        "class Car:\n",
        "  def __init__(self, brand: str, model: str, year: int, speed: int):\n",
        "    self.brand = brand\n",
        "    self.model = model\n",
        "    self.year = year\n",
        "    self.speed = speed\n",
        "  def accelerate(self):\n",
        "    self.speed += 5\n",
        "  def brake(self):\n",
        "    self.speed -= 5"
      ],
      "metadata": {
        "id": "rsKk4ehNoAAJ"
      },
      "execution_count": 35,
      "outputs": []
    },
    {
      "cell_type": "code",
      "source": [
        "car = Car(\"Toyota\", \"Camry\", 2022, 70)\n",
        "print(\"Initial speed:\", car.speed)\n",
        "\n",
        "car.accelerate()\n",
        "print(\"After acceleration:\", car.speed)\n",
        "\n",
        "car.brake()\n",
        "print(\"After braking:\", car.speed)"
      ],
      "metadata": {
        "colab": {
          "base_uri": "https://localhost:8080/"
        },
        "id": "pP9PS1GTpFzD",
        "outputId": "3ac314ff-9abe-411b-d163-383ace988ad1"
      },
      "execution_count": 37,
      "outputs": [
        {
          "output_type": "stream",
          "name": "stdout",
          "text": [
            "Initial speed: 70\n",
            "After acceleration: 75\n",
            "After braking: 70\n"
          ]
        }
      ]
    },
    {
      "cell_type": "markdown",
      "source": [
        "4. Create a Robot class with the following attributes: orientation (left, right, up, down), position_x, position_y. The Robot class should have the following methods: move, turn, and display_position. The move method should take a number of steps and move the robot in the direction it is currently facing. The turn method should take a direction (left or right) and turn the robot in that direction. The display_position method should print the current position of the robot."
      ],
      "metadata": {
        "id": "R2LhPEwBptVH"
      }
    },
    {
      "cell_type": "code",
      "source": [
        "class Robot:\n",
        "  def __init__(self, orientation: str, position_x: int, position_y: int):\n",
        "    self.orientation = orientation\n",
        "    self.position_x = position_x\n",
        "    self.position_y = position_y\n",
        "  def move(self, steps: int):\n",
        "    if self.orientation == 'left':\n",
        "      self.position_x -= steps\n",
        "    elif self.orientation == 'right':\n",
        "      self.position_x += steps\n",
        "    elif self.orientation == 'up':\n",
        "      self.position_y += steps\n",
        "    elif self.orientation == 'down':\n",
        "      self.position_y -= steps\n",
        "    else:\n",
        "      print('Wrong orientation')\n",
        "  def turn(self, turn: str):\n",
        "    self.orientation = turn\n",
        "  def display_position(self):\n",
        "    print(f'Your current position is {self.position_x}, {self.position_y}')"
      ],
      "metadata": {
        "id": "tOypAQsXpow7"
      },
      "execution_count": 38,
      "outputs": []
    },
    {
      "cell_type": "code",
      "source": [
        "robot = Robot('right', 0, 0)\n",
        "robot.move(5)\n",
        "robot.display_position()\n",
        "robot.turn('up')\n",
        "robot.move(3)\n",
        "robot.display_position()"
      ],
      "metadata": {
        "colab": {
          "base_uri": "https://localhost:8080/"
        },
        "id": "lvR1s9U7u9YT",
        "outputId": "718a383a-3485-46ea-8cff-b62edacee738"
      },
      "execution_count": 39,
      "outputs": [
        {
          "output_type": "stream",
          "name": "stdout",
          "text": [
            "Your current position is 5, 0\n",
            "Your current position is 5, 3\n"
          ]
        }
      ]
    },
    {
      "cell_type": "code",
      "source": [],
      "metadata": {
        "id": "3jPPzJFau_NA"
      },
      "execution_count": null,
      "outputs": []
    }
  ]
}