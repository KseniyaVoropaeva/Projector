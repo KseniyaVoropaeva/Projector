{
  "nbformat": 4,
  "nbformat_minor": 0,
  "metadata": {
    "colab": {
      "provenance": []
    },
    "kernelspec": {
      "name": "python3",
      "display_name": "Python 3"
    },
    "language_info": {
      "name": "python"
    }
  },
  "cells": [
    {
      "cell_type": "code",
      "execution_count": 1,
      "metadata": {
        "id": "53zYvty0FuEM"
      },
      "outputs": [],
      "source": [
        "import psycopg2\n",
        "\n",
        "\n",
        "host = \"dumbo.db.elephantsql.com\"\n",
        "database = \"shipfodm\"\n",
        "user = \"shipfodm\"\n",
        "password = \"bJo0TT1z5RGalO3A7zWqLVnSC-mrsYFb\"\n",
        "port = \"5432\"\n",
        "\n",
        "\n",
        "conn = psycopg2.connect(\n",
        "    host=host,\n",
        "    database=database,\n",
        "    user=user,\n",
        "    password=password,\n",
        "    port=port\n",
        ")\n"
      ]
    },
    {
      "cell_type": "code",
      "source": [
        "\n",
        "create_table_query = \"\"\"\n",
        "CREATE TABLE Hosts_Table (\n",
        "    host_id SERIAL PRIMARY KEY,\n",
        "    First_Name VARCHAR(255),\n",
        "    Last_Name VARCHAR(255),\n",
        "    Email VARCHAR(255)\n",
        ");\n",
        "\"\"\"\n",
        "\n",
        "with conn.cursor() as cursor:\n",
        "    cursor.execute(create_table_query)\n",
        "    conn.commit()\n",
        "\n",
        "print(\"Table created successfully!\")\n"
      ],
      "metadata": {
        "id": "V0JgmN6dGmCs"
      },
      "execution_count": 4,
      "outputs": []
    },
    {
      "cell_type": "code",
      "source": [
        "create_table_queries = [\n",
        "    \"\"\"\n",
        "    CREATE TABLE Guests_Table (\n",
        "        guest_id SERIAL PRIMARY KEY,\n",
        "        First_Name VARCHAR(255),\n",
        "        Last_Name VARCHAR(255),\n",
        "        Email VARCHAR(255)\n",
        "    );\n",
        "    \"\"\",\n",
        "    \"\"\"\n",
        "    CREATE TABLE Rooms_Table (\n",
        "        room_id SERIAL PRIMARY KEY,\n",
        "        host INTEGER,\n",
        "        guest INTEGER,\n",
        "        number_of_rooms INTEGER,\n",
        "        max_occupancy INTEGER,\n",
        "        price INTEGER,\n",
        "        AC BOOLEAN,\n",
        "        Refrigerator BOOLEAN,\n",
        "        FOREIGN KEY (host) REFERENCES Hosts_Table(host_id),\n",
        "        FOREIGN KEY (guest) REFERENCES Guests_Table(guest_id)\n",
        "    );\n",
        "    \"\"\",\n",
        "    \"\"\"\n",
        "    CREATE TABLE Reservations_Table (\n",
        "        reservation_id SERIAL PRIMARY KEY,\n",
        "        guest INTEGER,\n",
        "        room INTEGER,\n",
        "        check_in_date DATE,\n",
        "        check_out_date DATE,\n",
        "        total_price INTEGER,\n",
        "        FOREIGN KEY (guest) REFERENCES Guests_Table(guest_id),\n",
        "        FOREIGN KEY (room) REFERENCES Rooms_Table(room_id)\n",
        "    );\n",
        "    \"\"\",\n",
        "    \"\"\"\n",
        "    CREATE TABLE Reviews_Table (\n",
        "        review_id SERIAL PRIMARY KEY,\n",
        "        guest INTEGER,\n",
        "        room INTEGER,\n",
        "        rating INTEGER,\n",
        "        comment TEXT,\n",
        "        FOREIGN KEY (guest) REFERENCES Guests_Table(guest_id),\n",
        "        FOREIGN KEY (room) REFERENCES Rooms_Table(room_id)\n",
        "    );\n",
        "    \"\"\"\n",
        "]\n",
        "\n",
        "conn = psycopg2.connect(\n",
        "    host=host,\n",
        "    database=database,\n",
        "    user=user,\n",
        "    password=password,\n",
        "    port=port\n",
        ")\n",
        "\n",
        "with conn.cursor() as cursor:\n",
        "    for query in create_table_queries:\n",
        "        cursor.execute(query)\n",
        "    conn.commit()\n",
        "\n",
        "print(\"Tables created successfully!\")"
      ],
      "metadata": {
        "colab": {
          "base_uri": "https://localhost:8080/"
        },
        "id": "mpghl72sGl_5",
        "outputId": "694d5b7a-1075-4517-9b15-4bc46096b163"
      },
      "execution_count": 7,
      "outputs": [
        {
          "output_type": "stream",
          "name": "stdout",
          "text": [
            "Tables created successfully!\n"
          ]
        }
      ]
    },
    {
      "cell_type": "code",
      "source": [
        "\n",
        "hosts_data = [\n",
        "    (\"John\", \"Doe\", \"john@example.com\"),\n",
        "    (\"Jane\", \"Smith\", \"jane@example.com\"),\n",
        "    (\"Michael\", \"Johnson\", \"michael@example.com\"),\n",
        "    (\"Emily\", \"Brown\", \"emily@example.com\"),\n",
        "    (\"David\", \"Williams\", \"david@example.com\")\n",
        "]\n",
        "\n",
        "guests_data = [\n",
        "    (\"Alice\", \"White\", \"alice@example.com\"),\n",
        "    (\"Bob\", \"Green\", \"bob@example.com\"),\n",
        "    (\"Linda\", \"Lee\", \"linda@example.com\"),\n",
        "    (\"James\", \"Hall\", \"james@example.com\"),\n",
        "    (\"Olivia\", \"Martin\", \"olivia@example.com\")\n",
        "]\n",
        "\n",
        "rooms_data = [\n",
        "    (1, 2, 2, 4, 150, True, True),\n",
        "    (2, 3, 1, 3, 120, False, True),\n",
        "    (1, 1, 1, 2, 100, True, False),\n",
        "    (3, 4, 3, 5, 200, True, True),\n",
        "    (2, 5, 2, 4, 150, False, False)\n",
        "]\n",
        "\n",
        "reservations_data = [\n",
        "    (2, 3, '2023-08-01', '2023-08-05', 500),\n",
        "    (1, 1, '2023-08-10', '2023-08-15', 600),\n",
        "    (4, 5, '2023-08-05', '2023-08-08', 300),\n",
        "    (3, 2, '2023-08-20', '2023-08-25', 750),\n",
        "    (5, 4, '2023-09-01', '2023-09-10', 800)\n",
        "]\n",
        "\n",
        "reviews_data = [\n",
        "    (1, 3, 4, \"Great place to stay!\"),\n",
        "    (2, 1, 5, \"Not bad, but could be better.\"),\n",
        "    (3, 2, 3, \"Excellent service and comfortable room.\"),\n",
        "    (4, 4, 5, \"Average experience.\"),\n",
        "    (5, 5, 3, \"Highly recommended!\")\n",
        "]\n",
        "\n",
        "def insert_data(query, data):\n",
        "    with conn.cursor() as cursor:\n",
        "        cursor.executemany(query, data)\n",
        "        conn.commit()\n",
        "\n",
        "conn = psycopg2.connect(\n",
        "    host=host,\n",
        "    database=database,\n",
        "    user=user,\n",
        "    password=password,\n",
        "    port=port\n",
        ")\n",
        "\n",
        "insert_hosts_query = \"INSERT INTO Hosts_Table (First_Name, Last_Name, Email) VALUES (%s, %s, %s);\"\n",
        "insert_guests_query = \"INSERT INTO Guests_Table (First_Name, Last_Name, Email) VALUES (%s, %s, %s);\"\n",
        "insert_rooms_query = \"INSERT INTO Rooms_Table (host, guest, number_of_rooms, max_occupancy, price, AC, Refrigerator) VALUES (%s, %s, %s, %s, %s, %s, %s);\"\n",
        "insert_reservations_query = \"INSERT INTO Reservations_Table (guest, room, check_in_date, check_out_date, total_price) VALUES (%s, %s, %s, %s, %s);\"\n",
        "insert_reviews_query = \"INSERT INTO Reviews_Table (guest, room, rating, comment) VALUES (%s, %s, %s, %s);\"\n",
        "\n",
        "insert_data(insert_hosts_query, hosts_data)\n",
        "insert_data(insert_guests_query, guests_data)\n",
        "insert_data(insert_rooms_query, rooms_data)\n",
        "insert_data(insert_reservations_query, reservations_data)\n",
        "insert_data(insert_reviews_query, reviews_data)\n"
      ],
      "metadata": {
        "id": "CRSV6XqoGl9R"
      },
      "execution_count": 8,
      "outputs": []
    },
    {
      "cell_type": "code",
      "source": [
        "select_query = \"SELECT * FROM Hosts_Table;\"\n",
        "\n",
        "with conn.cursor() as cursor:\n",
        "    conn.rollback()\n",
        "\n",
        "    cursor.execute(select_query)\n",
        "    rows = cursor.fetchall()\n",
        "    for row in rows:\n",
        "        print(row)"
      ],
      "metadata": {
        "colab": {
          "base_uri": "https://localhost:8080/"
        },
        "id": "1NeP6J-UJ3Bm",
        "outputId": "d548cfa4-f2b7-48be-b019-760950320ab5"
      },
      "execution_count": 14,
      "outputs": [
        {
          "output_type": "stream",
          "name": "stdout",
          "text": [
            "(1, 'John', 'Doe', None, 'john@example.com')\n",
            "(2, 'Jane', 'Smith', None, 'jane@example.com')\n",
            "(3, 'Michael', 'Johnson', None, 'michael@example.com')\n",
            "(4, 'Emily', 'Brown', None, 'emily@example.com')\n",
            "(5, 'David', 'Williams', None, 'david@example.com')\n"
          ]
        }
      ]
    },
    {
      "cell_type": "code",
      "source": [
        "find_user_with_most_reservations_query = \"\"\"\n",
        "    SELECT g.First_Name, COUNT(r.guest) AS reservation_count\n",
        "    FROM Guests_Table g\n",
        "    JOIN Reservations_Table r ON g.guest_id = r.guest\n",
        "    GROUP BY g.First_Name\n",
        "    ORDER BY reservation_count DESC\n",
        "    LIMIT 1;\n",
        "\"\"\""
      ],
      "metadata": {
        "id": "Tw-KW2OlJ-Rd"
      },
      "execution_count": 15,
      "outputs": []
    },
    {
      "cell_type": "code",
      "source": [
        "find_host_with_most_earnings_query = \"\"\"\n",
        "    SELECT h.First_Name, SUM(r.total_price) AS earnings\n",
        "    FROM Hosts_Table h\n",
        "    JOIN Rooms_Table rt ON h.host_id = rt.host\n",
        "    JOIN Reservations_Table r ON rt.room_id = r.room\n",
        "    WHERE DATE_PART('month', r.check_in_date) = DATE_PART('month', CURRENT_DATE - INTERVAL '1 month')\n",
        "    GROUP BY h.First_Name\n",
        "    ORDER BY earnings DESC\n",
        "    LIMIT 1;\n",
        "\"\"\"\n"
      ],
      "metadata": {
        "id": "UpaxyMNgK6Ck"
      },
      "execution_count": 19,
      "outputs": []
    },
    {
      "cell_type": "code",
      "source": [
        "find_host_with_best_rating_query = \"\"\"\n",
        "    SELECT h.First_Name, AVG(rv.rating) AS average_rating\n",
        "    FROM Hosts_Table h\n",
        "    JOIN Rooms_Table rt ON h.host_id = rt.host\n",
        "    JOIN Reviews_Table rv ON rt.room_id = rv.room\n",
        "    GROUP BY h.First_Name\n",
        "    ORDER BY average_rating DESC\n",
        "    LIMIT 1;\n",
        "\"\"\""
      ],
      "metadata": {
        "id": "wn0LFxZ5K6AF"
      },
      "execution_count": 20,
      "outputs": []
    },
    {
      "cell_type": "code",
      "source": [
        "with conn.cursor() as cursor:\n",
        "    try:\n",
        "        cursor.execute(find_user_with_most_reservations_query)\n",
        "        user_with_most_reservations = cursor.fetchone()\n",
        "        print(\"User with most reservations:\", user_with_most_reservations)\n",
        "\n",
        "        cursor.execute(find_host_with_most_earnings_query)\n",
        "        host_with_most_earnings = cursor.fetchone()\n",
        "        print(\"Host with most earnings:\", host_with_most_earnings)\n",
        "\n",
        "        cursor.execute(find_host_with_best_rating_query)\n",
        "        host_with_best_rating = cursor.fetchone()\n",
        "        print(\"Host with best rating:\", host_with_best_rating)\n",
        "\n",
        "    except Exception as e:\n",
        "        print(\"Error:\", e)"
      ],
      "metadata": {
        "colab": {
          "base_uri": "https://localhost:8080/"
        },
        "id": "dlpuuW0BK5_n",
        "outputId": "e1ad8cf5-90ae-49e2-dd25-a3c56888d333"
      },
      "execution_count": 23,
      "outputs": [
        {
          "output_type": "stream",
          "name": "stdout",
          "text": [
            "User with most reservations: ('Alice', 1)\n",
            "Host with most earnings: None\n",
            "Host with best rating: ('Michael', Decimal('5.0000000000000000'))\n"
          ]
        }
      ]
    },
    {
      "cell_type": "code",
      "source": [],
      "metadata": {
        "id": "HcVPWh1fLFLB"
      },
      "execution_count": null,
      "outputs": []
    }
  ]
}