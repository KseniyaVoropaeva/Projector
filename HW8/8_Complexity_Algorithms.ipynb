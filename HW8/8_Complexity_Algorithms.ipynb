{
 "cells": [
  {
   "cell_type": "code",
   "execution_count": 90,
   "metadata": {},
   "outputs": [],
   "source": [
    "def hats(n):\n",
    "    cats = [0 for i in range(n)]\n",
    "    for i in range(1, len(cats)+1):\n",
    "        for j, value_j in enumerate(cats):\n",
    "            if (j + 1) % i == 0:\n",
    "                cats[j] = 1 if value_j == 0 else 0\n",
    "        # print(i, cats)\n",
    "    cats_with_hats = [index_i+1 for index_i, i in enumerate(cats) if i==1]\n",
    "    return cats_with_hats\n"
   ]
  },
  {
   "cell_type": "code",
   "execution_count": 94,
   "metadata": {},
   "outputs": [
    {
     "name": "stdout",
     "output_type": "stream",
     "text": [
      "Cats with numbers [1, 4, 9, 16, 25, 36, 49, 64, 81, 100] have a hat\n"
     ]
    }
   ],
   "source": [
    "print(f\"Cats with numbers {hats(100)} have a hat\")"
   ]
  },
  {
   "attachments": {},
   "cell_type": "markdown",
   "metadata": {},
   "source": [
    "O(n^2)"
   ]
  },
  {
   "attachments": {},
   "cell_type": "markdown",
   "metadata": {},
   "source": [
    "2"
   ]
  },
  {
   "cell_type": "code",
   "execution_count": 113,
   "metadata": {},
   "outputs": [],
   "source": [
    "def cat_hat(n):\n",
    "    return [i for i in range(1, n+1) if i ** 0.5 % 1 == 0]"
   ]
  },
  {
   "cell_type": "code",
   "execution_count": 115,
   "metadata": {},
   "outputs": [
    {
     "name": "stdout",
     "output_type": "stream",
     "text": [
      "Cats with numbers [1, 4, 9, 16, 25, 36, 49, 64, 81, 100] have a hat\n"
     ]
    }
   ],
   "source": [
    "print(f\"Cats with numbers {cat_hat(100)} have a hat\")"
   ]
  },
  {
   "cell_type": "markdown",
   "metadata": {},
   "source": [
    "O(n)"
   ]
  },
  {
   "cell_type": "markdown",
   "metadata": {},
   "source": []
  }
 ],
 "metadata": {
  "kernelspec": {
   "display_name": "Python 3",
   "language": "python",
   "name": "python3"
  },
  "language_info": {
   "codemirror_mode": {
    "name": "ipython",
    "version": 3
   },
   "file_extension": ".py",
   "mimetype": "text/x-python",
   "name": "python",
   "nbconvert_exporter": "python",
   "pygments_lexer": "ipython3",
   "version": "3.10.4"
  },
  "orig_nbformat": 4
 },
 "nbformat": 4,
 "nbformat_minor": 2
}
