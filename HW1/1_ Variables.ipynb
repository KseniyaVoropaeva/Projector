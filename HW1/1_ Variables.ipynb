{
 "cells": [
  {
   "cell_type": "markdown",
   "id": "558c28d2",
   "metadata": {},
   "source": [
    "# 1. Write a program that gets two int variables and swaps their values."
   ]
  },
  {
   "cell_type": "markdown",
   "id": "16c55075",
   "metadata": {},
   "source": [
    "## Method 1:"
   ]
  },
  {
   "cell_type": "code",
   "execution_count": 12,
   "id": "29a01167",
   "metadata": {},
   "outputs": [],
   "source": [
    "def swap_with_c(a, b):\n",
    "    c = a\n",
    "    a = b\n",
    "    b = c\n",
    "    return a, b"
   ]
  },
  {
   "cell_type": "markdown",
   "id": "531af872",
   "metadata": {},
   "source": [
    "## Method 2:"
   ]
  },
  {
   "cell_type": "code",
   "execution_count": 13,
   "id": "4d76cec4",
   "metadata": {},
   "outputs": [],
   "source": [
    "def swap_tuple(a, b):\n",
    "    b, a = a, b\n",
    "    return a, b"
   ]
  },
  {
   "cell_type": "markdown",
   "id": "8ad910b0",
   "metadata": {},
   "source": [
    "## Method 3:"
   ]
  },
  {
   "cell_type": "code",
   "execution_count": 20,
   "id": "69e32576",
   "metadata": {},
   "outputs": [],
   "source": [
    "def swap_list(a, b):    \n",
    "    listab = [b, a]\n",
    "    a, b = listab\n",
    "    return a, b"
   ]
  },
  {
   "cell_type": "markdown",
   "id": "eb82d24a",
   "metadata": {},
   "source": [
    "## Method 4:"
   ]
  },
  {
   "cell_type": "code",
   "execution_count": 47,
   "id": "24272d3b",
   "metadata": {},
   "outputs": [],
   "source": [
    "def swap_arithmetic(a, b):\n",
    "    a = a + b\n",
    "    b = a - b\n",
    "    a = a - b\n",
    "    return a, b"
   ]
  },
  {
   "cell_type": "markdown",
   "id": "c855e970",
   "metadata": {},
   "source": [
    "## Check the results:"
   ]
  },
  {
   "cell_type": "code",
   "execution_count": 49,
   "id": "a627a28d",
   "metadata": {},
   "outputs": [],
   "source": [
    "a = 3\n",
    "b = 5"
   ]
  },
  {
   "cell_type": "code",
   "execution_count": 50,
   "id": "fcb8eae2",
   "metadata": {},
   "outputs": [
    {
     "name": "stdout",
     "output_type": "stream",
     "text": [
      "(5, 3)\n",
      "(5, 3)\n",
      "(5, 3)\n",
      "(5, 3)\n"
     ]
    }
   ],
   "source": [
    "print(swap_with_c(a,b))\n",
    "print(swap_tuple(a,b))\n",
    "print(swap_list(a,b))\n",
    "print(swap_arithmetic(a,b))"
   ]
  },
  {
   "cell_type": "markdown",
   "id": "0be347a9",
   "metadata": {},
   "source": [
    "## 2. Write a program that gets 2 numbers from the user. Print to the console their difference. Use the built-in Input function for that\n"
   ]
  },
  {
   "cell_type": "code",
   "execution_count": 46,
   "id": "29b6703f",
   "metadata": {},
   "outputs": [
    {
     "name": "stdout",
     "output_type": "stream",
     "text": [
      "Enter the first digit: 5\n",
      "Enter the second digit: 3\n",
      "The difference is: 2.0\n"
     ]
    }
   ],
   "source": [
    "num1 = float(input(\"Enter the first digit: \"))\n",
    "num2 = float(input(\"Enter the second digit: \"))\n",
    "\n",
    "difference = num1 - num2\n",
    "\n",
    "print(\"The difference is:\", difference)"
   ]
  },
  {
   "cell_type": "markdown",
   "id": "c063e38e",
   "metadata": {},
   "source": [
    "## 3. Write a program that gets 2 numbers from the user. Print to the console maximum of these two variable. Use a built-in function for that.\n"
   ]
  },
  {
   "cell_type": "code",
   "execution_count": 28,
   "id": "2af6dd1e",
   "metadata": {},
   "outputs": [
    {
     "name": "stdout",
     "output_type": "stream",
     "text": [
      "Enter the first number: 75\n",
      "Enter the second number: 34\n",
      "The maximum of the two numbers is: 75.0\n"
     ]
    }
   ],
   "source": [
    "num1 = float(input(\"Enter the first number: \"))\n",
    "num2 = float(input(\"Enter the second number: \"))\n",
    "\n",
    "maximum = max(num1, num2)\n",
    "\n",
    "print(\"The maximum of the two numbers is:\", maximum)"
   ]
  },
  {
   "cell_type": "markdown",
   "id": "162b5a47",
   "metadata": {},
   "source": [
    "## Optional: Write a program that gets 3 digit number from the user and reverses it. You can use only numbers and their operators. Don`t use a string here!\n"
   ]
  },
  {
   "cell_type": "code",
   "execution_count": 45,
   "id": "b65482b4",
   "metadata": {},
   "outputs": [
    {
     "name": "stdout",
     "output_type": "stream",
     "text": [
      "Enter the initial number: 123\n",
      "The reversed number is: 321\n"
     ]
    }
   ],
   "source": [
    "num = int(input(\"Enter the initial number: \"))\n",
    "\n",
    "a = int(num / 100)\n",
    "b = int((num / 10) % 10)\n",
    "c = num % 10\n",
    "\n",
    "reversed_num = (c * 100) + (b * 10) + a\n",
    "\n",
    "print(\"The reversed number is:\", reversed_num)"
   ]
  },
  {
   "cell_type": "code",
   "execution_count": null,
   "id": "8a8d7f5b",
   "metadata": {},
   "outputs": [],
   "source": []
  }
 ],
 "metadata": {
  "kernelspec": {
   "display_name": "Python 3 (ipykernel)",
   "language": "python",
   "name": "python3"
  },
  "language_info": {
   "codemirror_mode": {
    "name": "ipython",
    "version": 3
   },
   "file_extension": ".py",
   "mimetype": "text/x-python",
   "name": "python",
   "nbconvert_exporter": "python",
   "pygments_lexer": "ipython3",
   "version": "3.9.7"
  }
 },
 "nbformat": 4,
 "nbformat_minor": 5
}
