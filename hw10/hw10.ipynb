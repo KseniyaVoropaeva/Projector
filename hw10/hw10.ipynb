{
 "cells": [
  {
   "cell_type": "markdown",
   "metadata": {},
   "source": [
    "## 1. Write a program that generates 26 text files named A.txt, B.txt, and so on up to Z.txt. To each file append a random number between 1 and 100. \n",
    "\n",
    "Create a summary file (summary.txt) that contains the name of the file and number in that file:\n",
    "A.txt: 67 B.txt: 12...Z.txt: 98"
   ]
  },
  {
   "cell_type": "code",
   "execution_count": 3,
   "metadata": {},
   "outputs": [],
   "source": [
    "import random"
   ]
  },
  {
   "cell_type": "code",
   "execution_count": 4,
   "metadata": {},
   "outputs": [],
   "source": [
    "alphabet = \"ABCDEFGHIJKLMNOPQRSTUVWXYZ\"\n",
    "s = open(\"summary.txt\", \"a\")\n",
    "for f in alphabet:\n",
    "    b = str(random.randint(1,100))\n",
    "    s.write(f\"{f}.txt - {b} \\n\")\n",
    "    f = open(f\"{f}.txt\", \"w\")\n",
    "    f.write(b)\n",
    "    f.close()\n",
    "s.close()"
   ]
  },
  {
   "cell_type": "markdown",
   "metadata": {},
   "source": [
    "## 2. Create a file with some content. \n",
    "As example, you can take this one: “Lorem ipsum dolor sit amet, consectetur adipiscing elit, sed do eiusmod tempor incididunt ut labore et dolore magna aliqua. Ut enim ad minim veniam, quis nostrud exercitation ullamco laboris nisi ut aliquip ex ea commodo consequat. Duis aute irure dolor in reprehenderit in voluptate velit esse cillum dolore eu fugiat nulla pariatur. Excepteur sint occaecat cupidatat non proident, sunt in culpa qui officia deserunt mollit anim id est laborum”.\n",
    "\n",
    "Create a second file and copy the content of the first file to the second file in upper case."
   ]
  },
  {
   "cell_type": "code",
   "execution_count": 6,
   "metadata": {},
   "outputs": [],
   "source": [
    "with open(\"first.txt\", 'w') as first:\n",
    "    first.write(\n",
    "        \"Lorem ipsum dolor sit amet, consectetur adipiscing elit, sed do eiusmod tempor incididunt ut labore et dolore magna aliqua. Ut enim ad minim veniam, quis nostrud exercitation ullamco laboris nisi ut aliquip ex ea commodo consequat. Duis aute irure dolor in reprehenderit in voluptate velit esse cillum dolore eu fugiat nulla pariatur. Excepteur sint occaecat cupidatat non proident, sunt in culpa qui officia deserunt mollit anim id est laborum\"\n",
    "    )\n",
    "\n"
   ]
  },
  {
   "cell_type": "code",
   "execution_count": 7,
   "metadata": {},
   "outputs": [],
   "source": [
    "with open('first.txt','r') as first, open('second.txt','w') as second:\n",
    "    data = first.read()\n",
    "    second.write(data.upper())"
   ]
  },
  {
   "cell_type": "markdown",
   "metadata": {},
   "source": [
    "## 3. Write a program that will simulate user scores in a game. \n",
    "\n",
    "Create a list with 5 players’ names. After that, simulate 100 rounds for each player. As a result of the game, create a list with the player's name and score (0-1000 range). And save it to a CSV file.\n",
    "\n",
    "The file should look like this:\n",
    "\n",
    "Player name, Score\n",
    "Josh, 56\n",
    "Luke, 784\n",
    "Kate, 90\n",
    "Mark, 125\n",
    "Mary, 877\n",
    "Josh, 345\n",
    "..."
   ]
  },
  {
   "cell_type": "code",
   "execution_count": 8,
   "metadata": {},
   "outputs": [],
   "source": [
    "import csv"
   ]
  },
  {
   "cell_type": "code",
   "execution_count": 39,
   "metadata": {},
   "outputs": [
    {
     "data": {
      "text/plain": [
       "[{'Player name': 'Kate', 'Score': 509},\n",
       " {'Player name': 'Mary', 'Score': 515},\n",
       " {'Player name': 'Luke', 'Score': 491},\n",
       " {'Player name': 'Mark', 'Score': 506},\n",
       " {'Player name': 'Josh', 'Score': 481}]"
      ]
     },
     "execution_count": 39,
     "metadata": {},
     "output_type": "execute_result"
    }
   ],
   "source": [
    "header = (\"Player name\", \"Score\")\n",
    "names = (\"Kate\", \"Mary\", \"Luke\", \"Mark\", \"Josh\")\n",
    "score = [\n",
    "    sum(random.choices(range(0, 11), k=100)) for i in range(len(names))\n",
    "]  # не розумію чому у мене генеруються значення в діапазоні 400-600, а не 0-1000\n",
    "players = [{header[0]: names[i], header[1]: score[i]} for i in range(len(names))]\n",
    "players"
   ]
  },
  {
   "cell_type": "code",
   "execution_count": 42,
   "metadata": {},
   "outputs": [],
   "source": [
    "with open(\"game.csv\", mode=\"w\") as game:\n",
    "    writer = csv.DictWriter(game, fieldnames=header)\n",
    "    writer.writeheader()\n",
    "    writer.writerows(players)"
   ]
  },
  {
   "cell_type": "markdown",
   "metadata": {},
   "source": [
    "## 4. Write a script that reads the data from the previous CSV file and creates a new file called high_scores.csv where each row contains the player name and their highest score. The final score should be sorted by descending to the highest score.\n",
    "\n",
    "The output CSV file should look like this:\n",
    "\n",
    "Player name, Highest score\n",
    "Kate, 907\n",
    "Mary, 897\n",
    " Luke, 784\n",
    "Mark, 725\n",
    "Josh, 345"
   ]
  },
  {
   "cell_type": "code",
   "execution_count": 62,
   "metadata": {},
   "outputs": [],
   "source": [
    "data = []\n",
    "with open(\"game.csv\", mode=\"r\") as game:\n",
    "    reader = csv.DictReader(game)\n",
    "    header = reader.fieldnames\n",
    "    for row in reader:\n",
    "        data.append(row)"
   ]
  },
  {
   "cell_type": "code",
   "execution_count": 74,
   "metadata": {},
   "outputs": [
    {
     "data": {
      "text/plain": [
       "[{'Player name': 'Mary', 'Highest score': 515},\n",
       " {'Player name': 'Kate', 'Highest score': 509},\n",
       " {'Player name': 'Mark', 'Highest score': 506},\n",
       " {'Player name': 'Luke', 'Highest score': 491},\n",
       " {'Player name': 'Josh', 'Highest score': 481}]"
      ]
     },
     "execution_count": 74,
     "metadata": {},
     "output_type": "execute_result"
    }
   ],
   "source": [
    "players = [(row[\"Player name\"], int(row[\"Score\"])) for row in data]\n",
    "best_players = sorted(players, key=lambda x: x[1], reverse=True)\n",
    "header = (\"Player name\", \"Highest score\")\n",
    "final_res = [{header[0]: best_players[i][0], header[1]: best_players[i][1]} for i in range(len(best_players))]\n",
    "final_res"
   ]
  },
  {
   "cell_type": "code",
   "execution_count": 75,
   "metadata": {},
   "outputs": [],
   "source": [
    "with open('high_score.csv', mode = 'w') as high_score:\n",
    "    writer = csv.DictWriter(high_score, fieldnames=header)\n",
    "    writer.writeheader()\n",
    "    writer.writerows(final_res)"
   ]
  },
  {
   "cell_type": "code",
   "execution_count": null,
   "metadata": {},
   "outputs": [],
   "source": []
  }
 ],
 "metadata": {
  "kernelspec": {
   "display_name": "Python 3",
   "language": "python",
   "name": "python3"
  },
  "language_info": {
   "codemirror_mode": {
    "name": "ipython",
    "version": 3
   },
   "file_extension": ".py",
   "mimetype": "text/x-python",
   "name": "python",
   "nbconvert_exporter": "python",
   "pygments_lexer": "ipython3",
   "version": "3.10.4"
  },
  "orig_nbformat": 4
 },
 "nbformat": 4,
 "nbformat_minor": 2
}
