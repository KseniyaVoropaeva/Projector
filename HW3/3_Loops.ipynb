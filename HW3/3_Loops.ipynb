{
 "cells": [
  {
   "cell_type": "markdown",
   "id": "5c86079f",
   "metadata": {},
   "source": [
    "## 1. Make all these expressions True by adding parentheses:               "
   ]
  },
  {
   "cell_type": "markdown",
   "id": "ddacb768",
   "metadata": {},
   "source": [
    "### a) False == not True"
   ]
  },
  {
   "cell_type": "code",
   "execution_count": 2,
   "id": "28146330",
   "metadata": {},
   "outputs": [
    {
     "data": {
      "text/plain": [
       "True"
      ]
     },
     "execution_count": 2,
     "metadata": {},
     "output_type": "execute_result"
    }
   ],
   "source": [
    "False == (not True)"
   ]
  },
  {
   "cell_type": "markdown",
   "id": "e3274b3b",
   "metadata": {},
   "source": [
    "### b) True and False == True and False"
   ]
  },
  {
   "cell_type": "code",
   "execution_count": 5,
   "id": "08393b92",
   "metadata": {},
   "outputs": [
    {
     "data": {
      "text/plain": [
       "True"
      ]
     },
     "execution_count": 5,
     "metadata": {},
     "output_type": "execute_result"
    }
   ],
   "source": [
    "(True and False) == (True and False)"
   ]
  },
  {
   "cell_type": "markdown",
   "id": "221e58f4",
   "metadata": {},
   "source": [
    "### c) not True and \"A\" == \"B\""
   ]
  },
  {
   "cell_type": "code",
   "execution_count": 7,
   "id": "6d75e45e",
   "metadata": {},
   "outputs": [
    {
     "data": {
      "text/plain": [
       "True"
      ]
     },
     "execution_count": 7,
     "metadata": {},
     "output_type": "execute_result"
    }
   ],
   "source": [
    "not (True and \"A\" == \"B\")"
   ]
  },
  {
   "cell_type": "markdown",
   "id": "e4b63b94",
   "metadata": {},
   "source": [
    "## 2. Make a solution for Wheat and chessboard problem. Represent a solution in tons. Assume that one grain of wheat weights 0.065 gram"
   ]
  },
  {
   "cell_type": "code",
   "execution_count": 32,
   "id": "a0776a05",
   "metadata": {},
   "outputs": [
    {
     "name": "stdout",
     "output_type": "stream",
     "text": [
      "On the whole board there will be 18446744073709551615 grains, their total weight will be 1199038364791 tons.\n"
     ]
    }
   ],
   "source": [
    "i = 0\n",
    "total_grains = 0\n",
    "while i < 64:\n",
    "    total_grains += 2**i\n",
    "    i += 1\n",
    "grains_in_tonnes = round(total_grains * 0.065 / 1000000)\n",
    "print(f\"On the whole board there will be {total_grains} grains, their total weight will be {grains_in_tonnes} tons.\")\n"
   ]
  },
  {
   "cell_type": "markdown",
   "id": "46453c30",
   "metadata": {},
   "source": [
    "Я так розумію, що задачу треба було вирішити використовуя цикл, але можна і без нього"
   ]
  },
  {
   "cell_type": "code",
   "execution_count": 33,
   "id": "7bb7f752",
   "metadata": {},
   "outputs": [
    {
     "name": "stdout",
     "output_type": "stream",
     "text": [
      "Total number of grains on the chessboard:  18446744073709551615\n",
      "Number of grains in tons:  1199038364791.1208\n"
     ]
    }
   ],
   "source": [
    "total_grains = 2 ** 64 - 1\n",
    "\n",
    "grains_in_tonnes = total_grains * 0.065 / 1000000\n",
    "\n",
    "print(\"Total number of grains on the chessboard: \", total_grains)\n",
    "print(\"Number of grains in tons: \", grains_in_tonnes)"
   ]
  },
  {
   "cell_type": "markdown",
   "id": "aab11df0",
   "metadata": {},
   "source": [
    "## Get a positive number from user input. Find all factors of this number."
   ]
  },
  {
   "cell_type": "code",
   "execution_count": 73,
   "id": "d2bbbdbc",
   "metadata": {},
   "outputs": [
    {
     "name": "stdout",
     "output_type": "stream",
     "text": [
      " Enter a positive number: 2.2\n",
      "Your number: 2. All factors of this number: [1, 2]\n"
     ]
    }
   ],
   "source": [
    "factors = []\n",
    "while True:\n",
    "    user_num = int(float(input(\" Enter a positive number: \")))\n",
    "    if user_num > 0:\n",
    "        for i in range(1, user_num+1):\n",
    "            if user_num % i == 0:\n",
    "                factors.append(i)\n",
    "        print(f\"Your number: {user_num}. All factors of this number: {factors}\")\n",
    "        break\n",
    "    else:\n",
    "        print('It`s not a positive number')\n",
    "        "
   ]
  },
  {
   "cell_type": "markdown",
   "id": "5fcde2ec",
   "metadata": {},
   "source": [
    "##  Write a Python program to check whether a triangle is equilateral, isosceles or scalene. Get all three sides from user input."
   ]
  },
  {
   "cell_type": "code",
   "execution_count": 79,
   "id": "c07814b8",
   "metadata": {},
   "outputs": [
    {
     "name": "stdout",
     "output_type": "stream",
     "text": [
      "Enter the length of the first side of the triangle: 1\n",
      "Enter the length of the second side of the triangle: 2\n",
      "Enter the length of the third side of the triangle: 1\n",
      "Your triangle is isosceles\n"
     ]
    }
   ],
   "source": [
    "a = float(input(\"Enter the length of the first side of the triangle: \"))\n",
    "b = float(input(\"Enter the length of the second side of the triangle: \"))\n",
    "c = float(input(\"Enter the length of the third side of the triangle: \"))\n",
    "\n",
    "if a == b == c:\n",
    "    print(\"Your triangle is equilateral\")\n",
    "elif a != b and a != c and b != c:\n",
    "    print(\"Your triangle is scalene\")\n",
    "else:\n",
    "    print(\"Your triangle is isosceles\")"
   ]
  },
  {
   "cell_type": "markdown",
   "id": "213dea14",
   "metadata": {},
   "source": [
    "## (Optional): Write a Python program to get the next day of a given date. Get the day, month and year from the user input. Don`t use datetime module for that"
   ]
  },
  {
   "cell_type": "code",
   "execution_count": null,
   "id": "b53b2899",
   "metadata": {},
   "outputs": [],
   "source": []
  },
  {
   "cell_type": "code",
   "execution_count": 86,
   "id": "cc2813bb",
   "metadata": {},
   "outputs": [],
   "source": [
    "def get_the_next_day(year, month, day):\n",
    "    # перевірка на високосний рік\n",
    "    if year % 400 == 0 or (year % 4 == 0 and year % 100 != 0):\n",
    "        leap_year = True\n",
    "    else:\n",
    "        leap_year = False\n",
    "        \n",
    "    # перевірка на кількість днів у місяці\n",
    "    month_30 = [4, 6, 9, 11]\n",
    "    month_31 = [1, 3, 5, 7, 8, 10, 12]\n",
    "\n",
    "    if month in month_30:\n",
    "        day_in_month = 30\n",
    "    elif month in month_31:\n",
    "        day_in_month = 31\n",
    "    elif month == 2:\n",
    "        if leap_year == True:\n",
    "            day_in_month = 29\n",
    "        else:\n",
    "            day_in_month = 28    \n",
    "    else:\n",
    "        return \"Month doesn`t exsist\"\n",
    "    \n",
    "    \n",
    "    # перевірка на останній день місяця\n",
    "    if day == day_in_month:\n",
    "        last_day = True\n",
    "    elif day < day_in_month:\n",
    "        last_day = False\n",
    "    else:\n",
    "        return \"Day doesn`t exsist\"\n",
    "    \n",
    "    \n",
    "    # перевірка на останній місяць року\n",
    "    if month == 12:\n",
    "        last_month = True\n",
    "    elif month < 12:\n",
    "        last_month = False\n",
    "    last_month\n",
    "    \n",
    "    \n",
    "    \n",
    "#     if last_day == False and last_month == False:\n",
    "#         next_day = str(day + 1)\n",
    "#         next_date = \"-\".join([str(year), str(month), next_day])\n",
    "#     elif last_day == True and last_month == False:\n",
    "#         next_day = '1'\n",
    "#         next_month = str(month + 1)\n",
    "#         next_date = \"-\".join([str(year), next_month, next_day])\n",
    "#     elif last_day == False and last_month == True:\n",
    "#         next_day = str(day + 1)\n",
    "#         next_month = '1'\n",
    "#         next_year = str(year + 1)\n",
    "#         next_date = \"-\".join([next_year, next_month, next_day])\n",
    "#     elif last_day == True and last_month == True:\n",
    "#         next_day = '1'\n",
    "#         next_month = '1'\n",
    "#         next_year = str(year + 1)\n",
    "    \n",
    "    \n",
    "#     next_day = str(day + 1) if not last_day else '1'\n",
    "#     next_month = str(month + 1) if not last_month else '1'\n",
    "#     next_year = str(year + 1) if last_day and last_month else str(year)\n",
    "\n",
    "    next_day = str(day + 1)\n",
    "    next_month = str(month)\n",
    "    next_year = str(year)\n",
    "    if last_day:\n",
    "        next_day = '1'\n",
    "        next_month = str(month + 1)\n",
    "    if last_month:\n",
    "        next_month = '1'\n",
    "        next_year = str(year + 1)\n",
    "    next_date = \"-\".join([next_year, next_month, next_day])\n",
    "    return next_date"
   ]
  },
  {
   "cell_type": "code",
   "execution_count": 87,
   "id": "59cb0e1a",
   "metadata": {},
   "outputs": [
    {
     "name": "stdout",
     "output_type": "stream",
     "text": [
      "Input a year: 2022\n",
      "Input a month [1-12]: 2\n",
      "Input a day [1-31]: 28\n"
     ]
    }
   ],
   "source": [
    "while True:\n",
    "    year = input(\"Input a year: \")\n",
    "    month = input(\"Input a month [1-12]: \")\n",
    "    day = input(\"Input a day [1-31]: \")\n",
    "    try:\n",
    "        year = int(year)\n",
    "        month = int(month)\n",
    "        day = int(day)\n",
    "        break\n",
    "    except:\n",
    "        print(\"Incorrect data\")"
   ]
  },
  {
   "cell_type": "code",
   "execution_count": 88,
   "id": "7efaf0ef",
   "metadata": {},
   "outputs": [
    {
     "name": "stdout",
     "output_type": "stream",
     "text": [
      "The next date is [yyyy-mm-dd]:  2022-3-1\n"
     ]
    }
   ],
   "source": [
    "print(\"The next date is [yyyy-mm-dd]: \",get_the_next_day(year, month, day))"
   ]
  },
  {
   "cell_type": "code",
   "execution_count": null,
   "id": "a07fb250",
   "metadata": {},
   "outputs": [],
   "source": []
  }
 ],
 "metadata": {
  "kernelspec": {
   "display_name": "Python 3 (ipykernel)",
   "language": "python",
   "name": "python3"
  },
  "language_info": {
   "codemirror_mode": {
    "name": "ipython",
    "version": 3
   },
   "file_extension": ".py",
   "mimetype": "text/x-python",
   "name": "python",
   "nbconvert_exporter": "python",
   "pygments_lexer": "ipython3",
   "version": "3.9.7"
  }
 },
 "nbformat": 4,
 "nbformat_minor": 5
}
