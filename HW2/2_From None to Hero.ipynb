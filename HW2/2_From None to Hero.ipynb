{
 "cells": [
  {
   "cell_type": "markdown",
   "id": "0836bedf",
   "metadata": {},
   "source": [
    "## Make all these expressions true.\n",
    "\n",
    "                a) 3 __ 4\n",
    "\n",
    "                b) 10 __ 5\n",
    "\n",
    "                c) 42 __ \"42\"\n",
    "               \n"
   ]
  },
  {
   "cell_type": "code",
   "execution_count": 1,
   "id": "442d4f86",
   "metadata": {},
   "outputs": [
    {
     "data": {
      "text/plain": [
       "True"
      ]
     },
     "execution_count": 1,
     "metadata": {},
     "output_type": "execute_result"
    }
   ],
   "source": [
    "3<4"
   ]
  },
  {
   "cell_type": "code",
   "execution_count": 2,
   "id": "ac5e1c63",
   "metadata": {},
   "outputs": [
    {
     "data": {
      "text/plain": [
       "True"
      ]
     },
     "execution_count": 2,
     "metadata": {},
     "output_type": "execute_result"
    }
   ],
   "source": [
    "10 > 5"
   ]
  },
  {
   "cell_type": "code",
   "execution_count": 4,
   "id": "2b94e57d",
   "metadata": {},
   "outputs": [
    {
     "data": {
      "text/plain": [
       "True"
      ]
     },
     "execution_count": 4,
     "metadata": {},
     "output_type": "execute_result"
    }
   ],
   "source": [
    "str(42) == '42'"
   ]
  },
  {
   "cell_type": "markdown",
   "id": "71f63e59",
   "metadata": {},
   "source": [
    "## Print the text in which there will be a quote with double quotes.\n"
   ]
  },
  {
   "cell_type": "code",
   "execution_count": 6,
   "id": "2bce24c8",
   "metadata": {},
   "outputs": [
    {
     "name": "stdout",
     "output_type": "stream",
     "text": [
      "\"Print the text in which there will be a quote with double quotes.\"\n"
     ]
    }
   ],
   "source": [
    "print('\"Print the text in which there will be a quote with double quotes.\"')"
   ]
  },
  {
   "cell_type": "markdown",
   "id": "80afe3f4",
   "metadata": {},
   "source": [
    "## Get a string from user input. Check if the string is a palindrome."
   ]
  },
  {
   "cell_type": "code",
   "execution_count": 11,
   "id": "dcf2e3c4",
   "metadata": {},
   "outputs": [],
   "source": [
    "def palindrome_check(user_str):\n",
    "    return user_str == user_str[::-1]"
   ]
  },
  {
   "cell_type": "code",
   "execution_count": 51,
   "id": "7788289c",
   "metadata": {},
   "outputs": [
    {
     "name": "stdout",
     "output_type": "stream",
     "text": [
      "Enter a string: dfd\n",
      "This string is a palindrome:  True\n"
     ]
    }
   ],
   "source": [
    "user_str = str(input(\"Enter a string: \"))\n",
    "print(\"This string is a palindrome: \", palindrome_check(user_str))"
   ]
  },
  {
   "cell_type": "markdown",
   "id": "35cf2c88",
   "metadata": {},
   "source": [
    "## The program receives the user's name and age from the input. Then you need to display the name and age in one line in several ways: \n"
   ]
  },
  {
   "cell_type": "code",
   "execution_count": 22,
   "id": "1a89c5f6",
   "metadata": {},
   "outputs": [
    {
     "name": "stdout",
     "output_type": "stream",
     "text": [
      "Enter your name: Ks\n",
      "Enter your age: 11\n"
     ]
    }
   ],
   "source": [
    "name = str(input(\"Enter your name: \"))\n",
    "age = str(input(\"Enter your age: \"))\n"
   ]
  },
  {
   "cell_type": "markdown",
   "id": "9a6d7f49",
   "metadata": {},
   "source": [
    "### - by listing all the parameters in the print function\n"
   ]
  },
  {
   "cell_type": "code",
   "execution_count": 31,
   "id": "ff4d43e0",
   "metadata": {},
   "outputs": [
    {
     "name": "stdout",
     "output_type": "stream",
     "text": [
      "Your name is Ks and your 11 years old\n"
     ]
    }
   ],
   "source": [
    "print(\"Your name is\", name, \"and your\", age, \"years old\")"
   ]
  },
  {
   "cell_type": "markdown",
   "id": "201f6232",
   "metadata": {},
   "source": [
    "### - by formatting a string using the format function\n"
   ]
  },
  {
   "cell_type": "code",
   "execution_count": 35,
   "id": "417e5260",
   "metadata": {},
   "outputs": [
    {
     "name": "stdout",
     "output_type": "stream",
     "text": [
      "Your name is Ks and your 11 years old\n"
     ]
    }
   ],
   "source": [
    "print(\"Your name is {} and your {} years old\".format(name, age))"
   ]
  },
  {
   "cell_type": "markdown",
   "id": "61e3d287",
   "metadata": {},
   "source": [
    "### - by formatting a string with f-string\n"
   ]
  },
  {
   "cell_type": "code",
   "execution_count": 36,
   "id": "9746db68",
   "metadata": {},
   "outputs": [
    {
     "name": "stdout",
     "output_type": "stream",
     "text": [
      "Your name is Ks and your 11 years old\n"
     ]
    }
   ],
   "source": [
    "print(f\"Your name is {name} and your {age} years old\")"
   ]
  },
  {
   "cell_type": "markdown",
   "id": "7792a35b",
   "metadata": {},
   "source": [
    "## Format string with proper built-in function\n"
   ]
  },
  {
   "cell_type": "markdown",
   "id": "addc4151",
   "metadata": {},
   "source": [
    "### All letters must be written in lowercase.\n"
   ]
  },
  {
   "cell_type": "code",
   "execution_count": 40,
   "id": "0ea1f2c8",
   "metadata": {},
   "outputs": [
    {
     "data": {
      "text/plain": [
       "'animals  '"
      ]
     },
     "execution_count": 40,
     "metadata": {},
     "output_type": "execute_result"
    }
   ],
   "source": [
    "string_1 = \"Animals  \"\n",
    "string_1.lower()"
   ]
  },
  {
   "cell_type": "markdown",
   "id": "db773f90",
   "metadata": {},
   "source": [
    "### All letters must be capitalized.\n"
   ]
  },
  {
   "cell_type": "code",
   "execution_count": 41,
   "id": "1fb1b29c",
   "metadata": {},
   "outputs": [
    {
     "data": {
      "text/plain": [
       "'  BADGER'"
      ]
     },
     "execution_count": 41,
     "metadata": {},
     "output_type": "execute_result"
    }
   ],
   "source": [
    "string_2 = \"  Badger\"\n",
    "string_2.upper()"
   ]
  },
  {
   "cell_type": "markdown",
   "id": "ea0cbdf5",
   "metadata": {},
   "source": [
    "### Remove all spaces:\n"
   ]
  },
  {
   "cell_type": "code",
   "execution_count": 53,
   "id": "e0704094",
   "metadata": {},
   "outputs": [
    {
     "name": "stdout",
     "output_type": "stream",
     "text": [
      "Remove all spaces from the beginning of the line: | HoneyPot    |\n",
      "Remove all spaces from the end of the line: |    HoneyPot |\n",
      "Remove all spaces on both sides of the line: | HoneyPot |\n"
     ]
    }
   ],
   "source": [
    "string_3 = \"   HoneyPot   \"\n",
    "print(\"Remove all spaces from the beginning of the line: |\",string_3.lstrip(),'|')\n",
    "\n",
    "print(\"Remove all spaces from the end of the line: |\", string_3.rstrip(), '|')\n",
    "\n",
    "print(\"Remove all spaces on both sides of the line: |\", string_3.strip(), '|')"
   ]
  },
  {
   "cell_type": "markdown",
   "id": "f839c573",
   "metadata": {},
   "source": [
    "## Check the value of the startwith('Be') function for each line.:\n"
   ]
  },
  {
   "cell_type": "code",
   "execution_count": 55,
   "id": "029ba6b9",
   "metadata": {},
   "outputs": [
    {
     "name": "stdout",
     "output_type": "stream",
     "text": [
      "True\n",
      "False\n",
      "False\n",
      "False\n"
     ]
    }
   ],
   "source": [
    "string_1 = \"Bear\"\n",
    "string_2 = \"bear\"\n",
    "string_3 = \"BEAR\"\n",
    "string_4 = \"bEar\"\n",
    "\n",
    "print(string_1.startswith('Be'))\n",
    "print(string_2.startswith('Be'))\n",
    "print(string_3.startswith('Be'))\n",
    "print(string_4.startswith('Be'))"
   ]
  },
  {
   "cell_type": "markdown",
   "id": "a3adaa8d",
   "metadata": {},
   "source": [
    "## Convert these bear-like rows with methods from the previous exercise to have a positive result for each row.\n"
   ]
  },
  {
   "cell_type": "code",
   "execution_count": 61,
   "id": "7eaa3bfc",
   "metadata": {},
   "outputs": [],
   "source": [
    "def formatted_string(string, starts_with):\n",
    "    string = string.lower().capitalize()\n",
    "    return string.startswith(starts_with)"
   ]
  },
  {
   "cell_type": "code",
   "execution_count": 62,
   "id": "b70f8b07",
   "metadata": {},
   "outputs": [
    {
     "name": "stdout",
     "output_type": "stream",
     "text": [
      "True\n",
      "True\n",
      "True\n",
      "True\n"
     ]
    }
   ],
   "source": [
    "print(formatted_string(string_1, 'Be'))\n",
    "print(formatted_string(string_2, 'Be'))\n",
    "print(formatted_string(string_3, 'Be'))\n",
    "print(formatted_string(string_4, 'Be'))\n"
   ]
  },
  {
   "cell_type": "markdown",
   "id": "513c7af7",
   "metadata": {},
   "source": [
    "## 7. (Optional) Find a secret message in the following text: `'X!xeXnxiXlX XtxeXrxcXeXsX Xax XsX`XtXIX'`\n"
   ]
  },
  {
   "cell_type": "code",
   "execution_count": 86,
   "id": "e0c73beb",
   "metadata": {},
   "outputs": [
    {
     "data": {
      "text/plain": [
       "'Its a secret line!'"
      ]
     },
     "execution_count": 86,
     "metadata": {},
     "output_type": "execute_result"
    }
   ],
   "source": [
    "text = 'X!xeXnxiXlX XtxeXrxcXeXsX Xax XsXXtXIX'\n",
    "secret_message = text.replace('X', '').replace('x', '')[::-1]\n",
    "secret_message"
   ]
  },
  {
   "cell_type": "code",
   "execution_count": null,
   "id": "3f83c380",
   "metadata": {},
   "outputs": [],
   "source": []
  },
  {
   "cell_type": "code",
   "execution_count": null,
   "id": "3d1066af",
   "metadata": {},
   "outputs": [],
   "source": []
  },
  {
   "cell_type": "code",
   "execution_count": null,
   "id": "6acc3772",
   "metadata": {},
   "outputs": [],
   "source": []
  },
  {
   "cell_type": "code",
   "execution_count": null,
   "id": "1a06616c",
   "metadata": {},
   "outputs": [],
   "source": []
  },
  {
   "cell_type": "code",
   "execution_count": null,
   "id": "303893dc",
   "metadata": {},
   "outputs": [],
   "source": []
  },
  {
   "cell_type": "code",
   "execution_count": null,
   "id": "a9bb4690",
   "metadata": {},
   "outputs": [],
   "source": []
  },
  {
   "cell_type": "code",
   "execution_count": null,
   "id": "99739f38",
   "metadata": {},
   "outputs": [],
   "source": []
  },
  {
   "cell_type": "code",
   "execution_count": null,
   "id": "72ecf1fd",
   "metadata": {},
   "outputs": [],
   "source": []
  },
  {
   "cell_type": "code",
   "execution_count": null,
   "id": "bfdf0c31",
   "metadata": {},
   "outputs": [],
   "source": []
  },
  {
   "cell_type": "code",
   "execution_count": null,
   "id": "a1de00b1",
   "metadata": {},
   "outputs": [],
   "source": []
  }
 ],
 "metadata": {
  "kernelspec": {
   "display_name": "Python 3 (ipykernel)",
   "language": "python",
   "name": "python3"
  },
  "language_info": {
   "codemirror_mode": {
    "name": "ipython",
    "version": 3
   },
   "file_extension": ".py",
   "mimetype": "text/x-python",
   "name": "python",
   "nbconvert_exporter": "python",
   "pygments_lexer": "ipython3",
   "version": "3.9.7"
  }
 },
 "nbformat": 4,
 "nbformat_minor": 5
}
