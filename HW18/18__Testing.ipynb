{
  "nbformat": 4,
  "nbformat_minor": 0,
  "metadata": {
    "colab": {
      "provenance": []
    },
    "kernelspec": {
      "name": "python3",
      "display_name": "Python 3"
    },
    "language_info": {
      "name": "python"
    }
  },
  "cells": [
    {
      "cell_type": "code",
      "source": [
        "import decimal\n"
      ],
      "metadata": {
        "id": "2B-QLjdBcNdD"
      },
      "execution_count": null,
      "outputs": []
    },
    {
      "cell_type": "code",
      "source": [
        "class Account:\n",
        "    def __init__(self, balance, account_number):\n",
        "        self._balance = balance\n",
        "        self._account_number = account_number\n",
        "\n",
        "    @classmethod\n",
        "    def create_account(cls, account_number):\n",
        "        return cls(0.0, account_number)\n",
        "\n",
        "    def deposit(self, amount):\n",
        "        if amount > 0:\n",
        "            self._balance += amount\n",
        "        else:\n",
        "            raise ValueError('Amount must be positive')\n",
        "\n",
        "    def withdraw(self, amount):\n",
        "        if amount > 0:\n",
        "            self._balance -= amount\n",
        "        else:\n",
        "            raise ValueError('Amount must be positive')\n",
        "\n",
        "    def get_balance(self):\n",
        "        return self._balance\n",
        "\n",
        "    def get_account_number(self):\n",
        "        return self._account_number\n",
        "\n",
        "    def __str__(self):\n",
        "        return f'Account number: {self._account_number}, balance: {self._balance}'"
      ],
      "metadata": {
        "id": "oJS8rJcyYe2M"
      },
      "execution_count": null,
      "outputs": []
    },
    {
      "cell_type": "code",
      "source": [
        "class SavingsAccount(Account):\n",
        "    def __init__(self, balance, account_number, interest):\n",
        "        super().__init__(balance, account_number)\n",
        "        self._interest = interest\n",
        "\n",
        "    def add_interest(self):\n",
        "        self._balance += self._balance * self._interest / 100\n",
        "\n",
        "class CurrentAccount(Account):\n",
        "    def __init__(self, balance, account_number, overdraft_limit):\n",
        "        super().__init__(balance, account_number)\n",
        "        self._overdraft_limit = overdraft_limit\n",
        "\n",
        "    def send_overdraft_letter(self):\n",
        "        if self._balance < 0 and abs(self._balance) > self._overdraft_limit:\n",
        "            print(f\"Overdraft letter sent for account {self._account_number}\")\n",
        "\n",
        "class Bank:\n",
        "    def __init__(self):\n",
        "        self._accounts = []\n",
        "\n",
        "    def open_account(self, account):\n",
        "        self._accounts.append(account)\n",
        "\n",
        "    def close_account(self, account_number):\n",
        "        self._accounts = [acc for acc in self._accounts if acc.get_account_number() != account_number]\n",
        "\n",
        "    def pay_dividend(self, dividend):\n",
        "        for account in self._accounts:\n",
        "            account.deposit(dividend)\n",
        "\n",
        "    def update_accounts(self):\n",
        "        for account in self._accounts:\n",
        "            if isinstance(account, SavingsAccount):\n",
        "                account.add_interest()\n",
        "            elif isinstance(account, CurrentAccount):\n",
        "                account.send_overdraft_letter()\n",
        "\n",
        "    def display_accounts(self):\n",
        "        for account in self._accounts:\n",
        "            print(account)\n",
        "\n",
        "\n"
      ],
      "metadata": {
        "id": "-XfkPyJxYcd5"
      },
      "execution_count": null,
      "outputs": []
    },
    {
      "cell_type": "code",
      "source": [
        "import unittest\n"
      ],
      "metadata": {
        "id": "DO4Mrv1_atAV"
      },
      "execution_count": null,
      "outputs": []
    },
    {
      "cell_type": "code",
      "execution_count": null,
      "metadata": {
        "id": "Qa6rQ0SxWUoG"
      },
      "outputs": [],
      "source": [
        "\n",
        "class TestBank(unittest.TestCase):\n",
        "    def setUp(self):\n",
        "        self.bank = Bank()\n",
        "        self.savings_account = SavingsAccount(decimal.Decimal('1000.0'), 'SA123', decimal.Decimal('2.0'))\n",
        "        self.current_account = CurrentAccount(500.0, 'CA456', -1000.0)\n",
        "\n",
        "    def test_open_account(self):\n",
        "        initial_balance = 1000.0\n",
        "        account_number = 'SA123'\n",
        "        self.bank.open_account(self.savings_account)\n",
        "        for account in self.bank._accounts:\n",
        "            if account.get_account_number() == account_number:\n",
        "                self.assertEqual(account.get_balance(), initial_balance)\n",
        "                break\n",
        "        else:\n",
        "            self.fail(f\"Account with account number {account_number} not found\")\n",
        "\n",
        "    def test_update_accounts(self):\n",
        "        self.bank.open_account(self.savings_account)\n",
        "        self.bank.open_account(self.current_account)\n",
        "\n",
        "        self.bank.update_accounts()\n",
        "\n",
        "        updated_balance = self.savings_account.get_balance() * (1 + self.savings_account._interest / 100)\n",
        "\n",
        "        threshold = decimal.Decimal('0.01')\n",
        "\n",
        "        self.assertTrue(abs(self.savings_account.get_balance() - updated_balance) < threshold)\n",
        "\n",
        "        import io\n",
        "        from contextlib import redirect_stdout\n",
        "        f = io.StringIO()\n",
        "        with redirect_stdout(f):\n",
        "            self.current_account.send_overdraft_letter()\n",
        "        self.bank.update_accounts()\n",
        "        self.assertIn(\"Overdraft letter sent\", f.getvalue())\n"
      ]
    },
    {
      "cell_type": "code",
      "source": [
        "suite = unittest.TestLoader().loadTestsFromTestCase(TestBank)\n",
        "runner = unittest.TextTestRunner(verbosity=2)\n",
        "runner.run(suite)"
      ],
      "metadata": {
        "colab": {
          "base_uri": "https://localhost:8080/"
        },
        "id": "trtHtORZYyQH",
        "outputId": "6f7eac08-5dca-4f86-9419-eccc3d304e09"
      },
      "execution_count": null,
      "outputs": [
        {
          "output_type": "stream",
          "name": "stderr",
          "text": [
            "test_open_account (__main__.TestBank) ... ok\n",
            "test_update_accounts (__main__.TestBank) ... FAIL\n",
            "\n",
            "======================================================================\n",
            "FAIL: test_update_accounts (__main__.TestBank)\n",
            "----------------------------------------------------------------------\n",
            "Traceback (most recent call last):\n",
            "  File \"<ipython-input-22-76355f708d5e>\", line 31, in test_update_accounts\n",
            "    self.assertTrue(abs(self.savings_account.get_balance() - updated_balance) < threshold)\n",
            "AssertionError: False is not true\n",
            "\n",
            "----------------------------------------------------------------------\n",
            "Ran 2 tests in 0.011s\n",
            "\n",
            "FAILED (failures=1)\n"
          ]
        },
        {
          "output_type": "execute_result",
          "data": {
            "text/plain": [
              "<unittest.runner.TextTestResult run=2 errors=0 failures=1>"
            ]
          },
          "metadata": {},
          "execution_count": 23
        }
      ]
    },
    {
      "cell_type": "code",
      "source": [],
      "metadata": {
        "id": "5jcX4HctaQs9"
      },
      "execution_count": null,
      "outputs": []
    }
  ]
}