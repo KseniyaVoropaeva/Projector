{
  "nbformat": 4,
  "nbformat_minor": 0,
  "metadata": {
    "colab": {
      "provenance": []
    },
    "kernelspec": {
      "name": "python3",
      "display_name": "Python 3"
    },
    "language_info": {
      "name": "python"
    }
  },
  "cells": [
    {
      "cell_type": "markdown",
      "source": [
        "Create a class Product with properties name, price, and quantity. Create a child class Book that inherits from Product and adds a property author and a method called read that prints information about the book."
      ],
      "metadata": {
        "id": "UZz08oT2wCbV"
      }
    },
    {
      "cell_type": "code",
      "execution_count": null,
      "metadata": {
        "id": "6UxOJrF4v8ek"
      },
      "outputs": [],
      "source": [
        "class Prodact:\n",
        "  def __init__(self, name: str, price: float, quantity: int):\n",
        "    self.name = name\n",
        "    self.price = price\n",
        "    self.quantity = quantity\n"
      ]
    },
    {
      "cell_type": "code",
      "source": [
        "class Book(Prodact):\n",
        "  def __init__(self, author: str, name: str, price: float, quantity: int):\n",
        "    super().__init__(name, price, quantity)\n",
        "    self.author = author\n",
        "  def read(self):\n",
        "    print(f\"Book: '{self.name}' by {self.author}\\nPrice: ${self.price}\\nQuantity: {self.quantity} available\")"
      ],
      "metadata": {
        "id": "U-wO8dGnwhsr"
      },
      "execution_count": null,
      "outputs": []
    },
    {
      "cell_type": "code",
      "source": [
        "book = Book(\"John Doe\",\"The Great Adventure\", 19.99, 50)\n",
        "book.read()"
      ],
      "metadata": {
        "colab": {
          "base_uri": "https://localhost:8080/"
        },
        "id": "hpaK776gy0YH",
        "outputId": "93c50148-3bd2-48d1-baf5-527f716577d6"
      },
      "execution_count": null,
      "outputs": [
        {
          "output_type": "stream",
          "name": "stdout",
          "text": [
            "Book: 'The Great Adventure' by John Doe\n",
            "Price: $19.99\n",
            "Quantity: 50 available\n"
          ]
        }
      ]
    },
    {
      "cell_type": "markdown",
      "source": [
        "Create a class Restaurant with properties name, cuisine, and menu. The menu property should be a dictionary with keys being the dish name and values being the price. Create a child class FastFood that inherits from Restaurant and adds a property drive_thru (a boolean indicating whether the restaurant has a drive-thru or not) and a method called order, which takes in the dish name and quantity and returns the total cost of the order. The method should also update the menu dictionary to subtract the ordered quantity from the available quantity. If the dish is not available or if the requested quantity is greater than the available quantity, the method should return a message indicating that the order cannot be fulfilled.\n",
        "\n",
        "\n"
      ],
      "metadata": {
        "id": "54gk94rRz-3_"
      }
    },
    {
      "cell_type": "code",
      "source": [
        "class Restaurant:\n",
        "  def __init__(self, name: str, cuisine: str, menu: dict):\n",
        "    self.name = name\n",
        "    self.cuisine = cuisine\n",
        "    self.menu = menu"
      ],
      "metadata": {
        "id": "lkk7CCDEztpZ"
      },
      "execution_count": null,
      "outputs": []
    },
    {
      "cell_type": "code",
      "source": [
        "class FastFood(Restaurant):\n",
        "  def __init__(self, name: str, cuisine: str, menu: dict, drive_thru: bool):\n",
        "    super().__init__(name, cuisine, menu)\n",
        "    self.drive_thru = drive_thru\n",
        "  def order(self, name, quantity):\n",
        "    if name not in self.menu:\n",
        "      return 'Dish not available'\n",
        "    elif quantity > self.menu[name]['quantity']:\n",
        "      return 'Requested quantity not available'\n",
        "    else:\n",
        "      res = self.menu[name]['price'] * quantity\n",
        "      return f'Total cost is {res}$'"
      ],
      "metadata": {
        "id": "0p9ggdxo0apq"
      },
      "execution_count": null,
      "outputs": []
    },
    {
      "cell_type": "code",
      "source": [
        "menu = { 'burger': {'price': 5, 'quantity': 10}, 'pizza': {'price': 10, 'quantity': 20}, 'drink': {'price': 1, 'quantity': 15} }\n",
        "\n",
        "mc = FastFood('McDonalds', 'Fast Food', menu, True)\n",
        "\n",
        "print(mc.order('burger', 5)) # 25\n",
        "\n",
        "print(mc.order('burger', 15)) # Requested quantity not available\n",
        "\n",
        "print(mc.order('soup', 5)) # Dish not available"
      ],
      "metadata": {
        "colab": {
          "base_uri": "https://localhost:8080/"
        },
        "id": "CAlaQJ7k6oPB",
        "outputId": "6af71a2a-1b8c-44a6-9b5f-648952affc29"
      },
      "execution_count": null,
      "outputs": [
        {
          "output_type": "stream",
          "name": "stdout",
          "text": [
            "Total cost is 25$\n",
            "Requested quantity not available\n",
            "Dish not available\n"
          ]
        }
      ]
    },
    {
      "cell_type": "markdown",
      "source": [
        "A Bank"
      ],
      "metadata": {
        "id": "ygT20bmzW8Qs"
      }
    },
    {
      "cell_type": "code",
      "source": [
        "class Account:\n",
        "    def __init__(self, balance, account_number):\n",
        "        self._balance = balance\n",
        "        self._account_number = account_number\n",
        "\n",
        "    @classmethod\n",
        "    def create_account(cls, account_number):\n",
        "        return cls(0.0, account_number)\n",
        "\n",
        "    def deposit(self, amount):\n",
        "        if amount > 0:\n",
        "            self._balance += amount\n",
        "        else:\n",
        "            raise ValueError('Amount must be positive')\n",
        "\n",
        "    def withdraw(self, amount):\n",
        "        if amount > 0:\n",
        "            self._balance -= amount\n",
        "        else:\n",
        "            raise ValueError('Amount must be positive')\n",
        "\n",
        "    def get_balance(self):\n",
        "        return self._balance\n",
        "\n",
        "    def get_account_number(self):\n",
        "        return self._account_number\n",
        "\n",
        "    def __str__(self):\n",
        "        return f'Account number: {self._account_number}, balance: {self._balance}'"
      ],
      "metadata": {
        "id": "PfmWV_vnXNmI"
      },
      "execution_count": 2,
      "outputs": []
    },
    {
      "cell_type": "code",
      "source": [
        "class SavingsAccount(Account):\n",
        "    def __init__(self, balance, account_number, interest):\n",
        "        super().__init__(balance, account_number)\n",
        "        self._interest = interest\n",
        "\n",
        "    def add_interest(self):\n",
        "        self._balance += self._balance * self._interest / 100\n",
        "\n",
        "class CurrentAccount(Account):\n",
        "    def __init__(self, balance, account_number, overdraft_limit):\n",
        "        super().__init__(balance, account_number)\n",
        "        self._overdraft_limit = overdraft_limit\n",
        "\n",
        "    def send_overdraft_letter(self):\n",
        "        if self._balance < 0 and abs(self._balance) > self._overdraft_limit:\n",
        "            print(f\"Overdraft letter sent for account {self._account_number}\")\n",
        "\n",
        "class Bank:\n",
        "    def __init__(self):\n",
        "        self._accounts = []\n",
        "\n",
        "    def open_account(self, account):\n",
        "        self._accounts.append(account)\n",
        "\n",
        "    def close_account(self, account_number):\n",
        "        self._accounts = [acc for acc in self._accounts if acc.get_account_number() != account_number]\n",
        "\n",
        "    def pay_dividend(self, dividend):\n",
        "        for account in self._accounts:\n",
        "            account.deposit(dividend)\n",
        "\n",
        "    def update_accounts(self):\n",
        "        for account in self._accounts:\n",
        "            if isinstance(account, SavingsAccount):\n",
        "                account.add_interest()\n",
        "            elif isinstance(account, CurrentAccount):\n",
        "                account.send_overdraft_letter()\n",
        "\n",
        "    def display_accounts(self):\n",
        "        for account in self._accounts:\n",
        "            print(account)\n",
        "\n",
        "\n",
        "\n"
      ],
      "metadata": {
        "id": "v0i8Aji0W7Un"
      },
      "execution_count": 3,
      "outputs": []
    },
    {
      "cell_type": "code",
      "source": [
        "savings_acc = SavingsAccount(1000, 'SA123', 5)\n",
        "current_acc = CurrentAccount(500, 'CA456', -1000)\n",
        "basic_acc = Account.create_account('BA789')\n",
        "\n",
        "bank = Bank()\n",
        "bank.open_account(savings_acc)\n",
        "bank.open_account(current_acc)\n",
        "bank.open_account(basic_acc)\n",
        "\n",
        "bank.display_accounts()\n",
        "\n",
        "bank.update_accounts()\n",
        "\n",
        "print(\"After updating accounts:\")\n",
        "bank.display_accounts()"
      ],
      "metadata": {
        "colab": {
          "base_uri": "https://localhost:8080/"
        },
        "id": "Zz5cd7DhXDCl",
        "outputId": "edd9c11a-a0da-479c-b6a0-5ca5eb775004"
      },
      "execution_count": 5,
      "outputs": [
        {
          "output_type": "stream",
          "name": "stdout",
          "text": [
            "Account number: SA123, balance: 1000\n",
            "Account number: CA456, balance: 500\n",
            "Account number: BA789, balance: 0.0\n",
            "After updating accounts:\n",
            "Account number: SA123, balance: 1050.0\n",
            "Account number: CA456, balance: 500\n",
            "Account number: BA789, balance: 0.0\n"
          ]
        }
      ]
    },
    {
      "cell_type": "code",
      "source": [],
      "metadata": {
        "id": "GKto9n9nXPaf"
      },
      "execution_count": null,
      "outputs": []
    }
  ]
}