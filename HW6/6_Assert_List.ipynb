{
 "cells": [
  {
   "attachments": {},
   "cell_type": "markdown",
   "metadata": {},
   "source": [
    "### 1. Write a Python program to compute the difference between two lists. Don`t use sets here"
   ]
  },
  {
   "cell_type": "code",
   "execution_count": 125,
   "metadata": {},
   "outputs": [],
   "source": [
    "from collections import Counter\n"
   ]
  },
  {
   "cell_type": "code",
   "execution_count": 126,
   "metadata": {},
   "outputs": [],
   "source": [
    "def compute_difference(first: list, second: list) -> tuple:\n",
    "    first_counter = Counter(first)\n",
    "    second_counter = Counter(second)\n",
    "\n",
    "    first_minus_second = []\n",
    "    second_minus_first = []\n",
    "\n",
    "    for element, count in first_counter.items():\n",
    "        if count > second_counter[element]:\n",
    "            first_minus_second.extend([element] * (count - second_counter[element]))\n",
    "\n",
    "    for element, count in second_counter.items():\n",
    "        if count > first_counter[element]:\n",
    "            second_minus_first.extend([element] * (count - first_counter[element]))\n",
    "\n",
    "    return tuple([first_minus_second, second_minus_first])"
   ]
  },
  {
   "cell_type": "code",
   "execution_count": 127,
   "metadata": {},
   "outputs": [
    {
     "name": "stdout",
     "output_type": "stream",
     "text": [
      "([1], [3, 3, 3, 3, 3, 4])\n"
     ]
    }
   ],
   "source": [
    "print(compute_difference([1, 2, 3], [2, 3, 3, 3, 3, 3, 3, 4]))"
   ]
  },
  {
   "cell_type": "code",
   "execution_count": 128,
   "metadata": {},
   "outputs": [],
   "source": [
    "def test_compute_difference():\n",
    "    result1 = compute_difference([\"a\", \"b\", \"c\", \"c\", \"d\"], [\"c\", \"d\", \"e\"])\n",
    "    assert result1 == ([\"a\", \"b\", \"c\"], [\"e\"])\n",
    "\n",
    "    result2 = compute_difference([], [\"c\", \"d\", \"e\"])\n",
    "    assert result2 == ([], [\"c\", \"d\", \"e\"])\n",
    "\n",
    "    result3 = compute_difference([1, 2, 3], [4, 4, 5, 6])\n",
    "    assert result3 == ([1, 2, 3], [4, 4, 5, 6])\n",
    "\n",
    "    result3 = compute_difference([1, 2, 3], [2, 3, 4])\n",
    "    assert result3 == ([1], [4])"
   ]
  },
  {
   "cell_type": "code",
   "execution_count": 129,
   "metadata": {},
   "outputs": [],
   "source": [
    "test_compute_difference()"
   ]
  },
  {
   "attachments": {},
   "cell_type": "markdown",
   "metadata": {},
   "source": [
    "### 2. Given an array of integers nums and an integer target, return indices of the two numbers such that they add up to target. You may assume that each input would have exactly one solution, and you may not use the same element twice. You can return the answer in any order."
   ]
  },
  {
   "cell_type": "code",
   "execution_count": 134,
   "metadata": {},
   "outputs": [],
   "source": [
    "def sum_of_two(nums: list, target: int) -> list:\n",
    "    for i, value_i in enumerate(nums):\n",
    "        for j, value_j in enumerate(nums[:i:-1]):\n",
    "            if value_i + value_j == target:\n",
    "                return [i, len(nums)-j-1]"
   ]
  },
  {
   "cell_type": "code",
   "execution_count": 135,
   "metadata": {},
   "outputs": [
    {
     "name": "stdout",
     "output_type": "stream",
     "text": [
      "[0, 1]\n"
     ]
    }
   ],
   "source": [
    "print(sum_of_two([3, 3], 6))"
   ]
  },
  {
   "cell_type": "code",
   "execution_count": 146,
   "metadata": {},
   "outputs": [],
   "source": [
    "def test_sum_of_two():\n",
    "    result1 = sum_of_two([2, 7, 11, 15], 9)\n",
    "    assert result1 == [0, 1]\n",
    "\n",
    "    result2 = sum_of_two([3, 2, 4], 6)\n",
    "    assert result2 == [1, 2]\n",
    "\n",
    "    result3 = sum_of_two([3, 3], 6)\n",
    "    assert result3 == [0, 1]"
   ]
  },
  {
   "cell_type": "code",
   "execution_count": 147,
   "metadata": {},
   "outputs": [],
   "source": [
    "test_sum_of_two()"
   ]
  },
  {
   "attachments": {},
   "cell_type": "markdown",
   "metadata": {},
   "source": [
    "Чи є більш оптимізований варіант рішення завдання? \n",
    "Якщо б у нас був сортований список, то можна було б робити через цикл while і покажчики left, right. Якщо сума елементів більше за таргет то зсуваємо right, якщо менша, то left.\n",
    "А для нашого несортованого списка не вигадала іншого рішення"
   ]
  },
  {
   "attachments": {},
   "cell_type": "markdown",
   "metadata": {},
   "source": [
    "### 3. Write a program that takes a list of integers as input and returns a new list that contains only the elements that are unique (i.e., that appear only once in the list)."
   ]
  },
  {
   "cell_type": "code",
   "execution_count": 154,
   "metadata": {},
   "outputs": [],
   "source": [
    "def unique_elements(arr: list) -> list:\n",
    "    return [i for i in arr if arr.count(i) == 1]"
   ]
  },
  {
   "cell_type": "code",
   "execution_count": 155,
   "metadata": {},
   "outputs": [],
   "source": [
    "def test_unique_elements():\n",
    "    result1 = unique_elements([1, 2, 3, 2, 4, 5, 5])\n",
    "    assert result1 == [1, 3, 4]\n",
    "\n",
    "    result2 = unique_elements([1, 2, 3, 4, 5])\n",
    "    assert result2 == [1, 2, 3, 4, 5]\n",
    "\n",
    "    result3 = unique_elements([1, 1, 1, 1, 1])\n",
    "    assert result3 == []"
   ]
  },
  {
   "cell_type": "code",
   "execution_count": 156,
   "metadata": {},
   "outputs": [],
   "source": [
    "test_unique_elements()"
   ]
  },
  {
   "attachments": {},
   "cell_type": "markdown",
   "metadata": {},
   "source": [
    "### 4. Write a program that takes a list of integers as input and returns a new list that contains only the elements that appear an odd number of times in the list."
   ]
  },
  {
   "cell_type": "code",
   "execution_count": 193,
   "metadata": {},
   "outputs": [],
   "source": [
    "def odd_elements(arr: list) -> list:\n",
    "    new = []\n",
    "    new += (i for i in arr if arr.count(i) % 2 != 0 and i not in new)\n",
    "    return new"
   ]
  },
  {
   "cell_type": "code",
   "execution_count": 194,
   "metadata": {},
   "outputs": [],
   "source": [
    "def odd_elements_2(arr: list) -> list:\n",
    "    new = []\n",
    "    for i in arr:\n",
    "        if arr.count(i) % 2 != 0 and i not in new:\n",
    "            new.append(i)\n",
    "    return new"
   ]
  },
  {
   "cell_type": "code",
   "execution_count": 195,
   "metadata": {},
   "outputs": [],
   "source": [
    "def odd_elements_3(arr: list) -> list:\n",
    "    count = Counter(arr)\n",
    "    return [i for i in count.keys() if count[i] % 2 != 0]"
   ]
  },
  {
   "cell_type": "code",
   "execution_count": 196,
   "metadata": {},
   "outputs": [],
   "source": [
    "def test_odd_elements():\n",
    "    # Для odd_elements\n",
    "    result1 = odd_elements([1, 2, 3, 2, 4, 5, 5])\n",
    "    assert result1 == [1, 3, 4]\n",
    "\n",
    "    result2 = odd_elements([1, 2, 3, 2, 4, 5, 5, 6, 6, 6])\n",
    "    assert result2 == [1, 3, 4, 6]\n",
    "\n",
    "    # Для odd_elements_2\n",
    "\n",
    "    result3 = odd_elements_2([1, 2, 3, 2, 4, 5, 5])\n",
    "    assert result3 == [1, 3, 4]\n",
    "\n",
    "    result4 = odd_elements_2([1, 2, 3, 2, 4, 5, 5, 6, 6, 6])\n",
    "    assert result4 == [1, 3, 4, 6]\n",
    "\n",
    "    # Для odd_elements_3\n",
    "\n",
    "    result5 = odd_elements_3([1, 2, 3, 2, 4, 5, 5])\n",
    "    assert result5 == [1, 3, 4]\n",
    "\n",
    "    result6 = odd_elements_3([1, 2, 3, 2, 4, 5, 5, 6, 6, 6])\n",
    "    assert result6 == [1, 3, 4, 6]"
   ]
  },
  {
   "cell_type": "code",
   "execution_count": 197,
   "metadata": {},
   "outputs": [],
   "source": [
    "test_odd_elements()"
   ]
  },
  {
   "attachments": {},
   "cell_type": "markdown",
   "metadata": {},
   "source": [
    "### 5. Write a program that takes a list of integers as input and returns the second-largest element in the list. If the list has fewer than two elements, the program should return None. "
   ]
  },
  {
   "cell_type": "code",
   "execution_count": 213,
   "metadata": {},
   "outputs": [],
   "source": [
    "def second_largest_element(arr: list) -> int:\n",
    "    lar = 0\n",
    "    sec_lar = 0\n",
    "    if all(element == arr[0] for element in arr[1:]):\n",
    "        return None\n",
    "    else:\n",
    "        for i in arr:\n",
    "            if i >= lar:\n",
    "                sec_lar = lar\n",
    "                lar = i\n",
    "    return sec_lar"
   ]
  },
  {
   "cell_type": "code",
   "execution_count": 214,
   "metadata": {},
   "outputs": [],
   "source": [
    "def test_second_largest_element():\n",
    "    result1 = second_largest_element([1, 2, 3, 2, 4, 5, 5])\n",
    "    assert result1 == 5\n",
    "\n",
    "    result2 = second_largest_element([1, 2, 3, 4, 5])\n",
    "    assert result2 == 4\n",
    "\n",
    "    result3 = second_largest_element([1, 1, 1, 1, 1])\n",
    "    assert result3 == None"
   ]
  },
  {
   "cell_type": "code",
   "execution_count": 215,
   "metadata": {},
   "outputs": [],
   "source": [
    "test_second_largest_element()"
   ]
  },
  {
   "attachments": {},
   "cell_type": "markdown",
   "metadata": {},
   "source": [
    "### 6. Sort the following list by population. Calculate average and total population for cities from this list:"
   ]
  },
  {
   "cell_type": "code",
   "execution_count": 216,
   "metadata": {},
   "outputs": [],
   "source": [
    "population_list = [\n",
    "    (\"New York City\", 8550405),\n",
    "    (\"Los Angeles\", 3792621),\n",
    "    (\"Chicago\", 2695598),\n",
    "    (\"Houston\", 2100263),\n",
    "    (\"Philadelphia\", 1526006),\n",
    "    (\"Phoenix\", 1445632),\n",
    "    (\"San Antonio\", 1327407),\n",
    "    (\"San Diego\", 1307402),\n",
    "    (\"Dallas\", 1197816),\n",
    "    (\"San Jose\", 945942),\n",
    "]"
   ]
  },
  {
   "cell_type": "code",
   "execution_count": 248,
   "metadata": {},
   "outputs": [
    {
     "data": {
      "text/plain": [
       "[('San Jose', 945942),\n",
       " ('Dallas', 1197816),\n",
       " ('San Diego', 1307402),\n",
       " ('San Antonio', 1327407),\n",
       " ('Phoenix', 1445632),\n",
       " ('Philadelphia', 1526006),\n",
       " ('Houston', 2100263),\n",
       " ('Chicago', 2695598),\n",
       " ('Los Angeles', 3792621),\n",
       " ('New York City', 8550405)]"
      ]
     },
     "execution_count": 248,
     "metadata": {},
     "output_type": "execute_result"
    }
   ],
   "source": [
    "sorted_population = sorted(population_list, key=lambda x: x[1])\n",
    "sorted_population"
   ]
  },
  {
   "cell_type": "code",
   "execution_count": 250,
   "metadata": {},
   "outputs": [
    {
     "data": {
      "text/plain": [
       "[2695598,\n",
       " 1197816,\n",
       " 2100263,\n",
       " 3792621,\n",
       " 8550405,\n",
       " 1526006,\n",
       " 1445632,\n",
       " 1327407,\n",
       " 1307402,\n",
       " 945942]"
      ]
     },
     "execution_count": 250,
     "metadata": {},
     "output_type": "execute_result"
    }
   ],
   "source": [
    "only_population = [i[1] for i in population_list]\n",
    "only_population"
   ]
  },
  {
   "cell_type": "code",
   "execution_count": 251,
   "metadata": {},
   "outputs": [
    {
     "data": {
      "text/plain": [
       "24889092"
      ]
     },
     "execution_count": 251,
     "metadata": {},
     "output_type": "execute_result"
    }
   ],
   "source": [
    "sum_population = sum(only_population)\n",
    "sum_population"
   ]
  },
  {
   "cell_type": "code",
   "execution_count": 253,
   "metadata": {},
   "outputs": [
    {
     "data": {
      "text/plain": [
       "2488909.2"
      ]
     },
     "execution_count": 253,
     "metadata": {},
     "output_type": "execute_result"
    }
   ],
   "source": [
    "average_population = sum_population/len(only_population)\n",
    "average_population"
   ]
  },
  {
   "cell_type": "code",
   "execution_count": null,
   "metadata": {},
   "outputs": [],
   "source": []
  }
 ],
 "metadata": {
  "kernelspec": {
   "display_name": "Python 3",
   "language": "python",
   "name": "python3"
  },
  "language_info": {
   "codemirror_mode": {
    "name": "ipython",
    "version": 3
   },
   "file_extension": ".py",
   "mimetype": "text/x-python",
   "name": "python",
   "nbconvert_exporter": "python",
   "pygments_lexer": "ipython3",
   "version": "3.10.4"
  },
  "orig_nbformat": 4
 },
 "nbformat": 4,
 "nbformat_minor": 2
}
