{
  "nbformat": 4,
  "nbformat_minor": 0,
  "metadata": {
    "colab": {
      "provenance": []
    },
    "kernelspec": {
      "name": "python3",
      "display_name": "Python 3"
    },
    "language_info": {
      "name": "python"
    }
  },
  "cells": [
    {
      "cell_type": "markdown",
      "source": [
        "1. Write a decorator that ensures a function is only called by users with a specific role. Each function should have a user_type with a string type in kwargs. Example:\n"
      ],
      "metadata": {
        "id": "sOK08ri53eg1"
      }
    },
    {
      "cell_type": "code",
      "source": [
        "def is_admin(func):\n",
        "  def wrapper(*args, **kwargs):\n",
        "    if kwargs.get('user_type') == 'admin':\n",
        "      func(*args, **kwargs)\n",
        "    else:\n",
        "      print('ValueError: Permission denied')\n",
        "\n",
        "  return wrapper\n",
        "@is_admin\n",
        "def show_customer_receipt(user_type: str):\n",
        "    # some very dangerous operation\n",
        "    print('some very dangerous operation')\n",
        "\n",
        "show_customer_receipt(user_type='admin')"
      ],
      "metadata": {
        "colab": {
          "base_uri": "https://localhost:8080/"
        },
        "id": "jbB_57g23fCQ",
        "outputId": "1a82205d-f24a-40b6-a7f8-81f71260d28d"
      },
      "execution_count": 8,
      "outputs": [
        {
          "output_type": "stream",
          "name": "stdout",
          "text": [
            "some very dangerous operation\n"
          ]
        }
      ]
    },
    {
      "cell_type": "markdown",
      "source": [
        "2.  Write a decorator that wraps a function in a try-except block and prints an error if an            error has happened. Example:\n",
        "\n",
        "@catch_errors\n",
        "def some_function_with_risky_operation(data):\n",
        "    print(data['key'])\n",
        "\n",
        "\n",
        "some_function_with_risky_operation({'foo': 'bar'})\n",
        "> Found 1 error during execution of your function: KeyError no such key as foo\n",
        "\n",
        "some_function_with_risky_operation({'key': 'bar'})\n",
        "> bar"
      ],
      "metadata": {
        "id": "bUP_btDI3tIQ"
      }
    },
    {
      "cell_type": "code",
      "source": [
        "def catch_errors(func):\n",
        "    def wrapper(*args, **kwargs):\n",
        "        try:\n",
        "            return func(*args, **kwargs)\n",
        "        except Exception as e:\n",
        "            print(f\"Found 1 error during execution of your function: {type(e).__name__} {e}\")\n",
        "    return wrapper\n"
      ],
      "metadata": {
        "id": "-c69CFJ44_JC"
      },
      "execution_count": 13,
      "outputs": []
    },
    {
      "cell_type": "code",
      "source": [
        "@catch_errors\n",
        "def some_function_with_risky_operation(data):\n",
        "    print(data['key'])"
      ],
      "metadata": {
        "id": "06cRxQTcwF4r"
      },
      "execution_count": 14,
      "outputs": []
    },
    {
      "cell_type": "code",
      "source": [
        "some_function_with_risky_operation({'key': 'bar'})"
      ],
      "metadata": {
        "colab": {
          "base_uri": "https://localhost:8080/"
        },
        "id": "KD5gb1fo53V-",
        "outputId": "c9e17489-0618-4986-8599-c877bfaf88d7"
      },
      "execution_count": 15,
      "outputs": [
        {
          "output_type": "stream",
          "name": "stdout",
          "text": [
            "bar\n"
          ]
        }
      ]
    },
    {
      "cell_type": "code",
      "source": [
        "some_function_with_risky_operation({'foo': 'bar'})\n"
      ],
      "metadata": {
        "colab": {
          "base_uri": "https://localhost:8080/"
        },
        "id": "Rp-zUHNs5884",
        "outputId": "b42a70f6-04e7-4bd1-a8ef-3c8c79e54537"
      },
      "execution_count": 16,
      "outputs": [
        {
          "output_type": "stream",
          "name": "stdout",
          "text": [
            "Found 1 error during execution of your function: KeyError 'key'\n"
          ]
        }
      ]
    },
    {
      "cell_type": "markdown",
      "source": [
        " 3.  Optional: Create a decorator that will check types. It should take a function with arguments and validate inputs with annotations. It should work for all possible functions. Don’t forget to check the return type as well.\n",
        "\n",
        "Example:\n",
        "\n",
        "@check_types\n",
        "def add(a: int, b: int) -> int:\n",
        "    return a + b\n",
        "\n",
        "add(1, 2)\n",
        "> 3\n",
        "\n",
        "add(\"1\", \"2\")\n",
        "> TypeError: Argument a must be int, not str\n"
      ],
      "metadata": {
        "id": "mtw4krggX8Tt"
      }
    },
    {
      "cell_type": "code",
      "source": [],
      "metadata": {
        "id": "6PgxcseI6Auc"
      },
      "execution_count": null,
      "outputs": []
    }
  ]
}