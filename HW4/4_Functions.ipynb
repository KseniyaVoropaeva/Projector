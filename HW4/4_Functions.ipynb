{
 "cells": [
  {
   "attachments": {},
   "cell_type": "markdown",
   "metadata": {},
   "source": [
    "### 1.Write a function called `find_primes` that takes in two integers a and b and returns a list of all the prime numbers between a and b (inclusive)."
   ]
  },
  {
   "cell_type": "code",
   "execution_count": 24,
   "metadata": {},
   "outputs": [],
   "source": [
    "def find_primes(a, b):\n",
    "    prime_num_list = []\n",
    "    for num in range(a, b+1):\n",
    "        is_prime = True\n",
    "        for i in range(2, int(num ** 0.5) + 1):\n",
    "            if num % i == 0:\n",
    "                is_prime = False\n",
    "                break\n",
    "        if is_prime:\n",
    "            prime_num_list.append(num)\n",
    "    return prime_num_list\n"
   ]
  },
  {
   "cell_type": "code",
   "execution_count": 26,
   "metadata": {},
   "outputs": [
    {
     "name": "stdout",
     "output_type": "stream",
     "text": [
      "The prime numbers: [1, 2, 3, 5, 7, 11, 13, 17, 19, 23, 29, 31, 37, 41, 43, 47, 53, 59, 61, 67, 71, 73, 79, 83, 89, 97]\n"
     ]
    }
   ],
   "source": [
    "prime_num = find_primes(1, 100)\n",
    "\n",
    "print(f\"The prime numbers: {prime_num}\")"
   ]
  },
  {
   "attachments": {},
   "cell_type": "markdown",
   "metadata": {},
   "source": [
    "### 2. Write a function called `unique_characters` that takes in a string s and returns a Boolean value indicating whether or not all the characters in s are unique. For example, the string \"abcdefg\" has unique characters, but the string \"abcdeff\" does not."
   ]
  },
  {
   "cell_type": "code",
   "execution_count": 29,
   "metadata": {},
   "outputs": [],
   "source": [
    "def unique_characters(s):\n",
    "    my_set = set(s)\n",
    "    return True if len(s) == len(my_set) else False"
   ]
  },
  {
   "cell_type": "code",
   "execution_count": 72,
   "metadata": {},
   "outputs": [
    {
     "name": "stdout",
     "output_type": "stream",
     "text": [
      "False\n",
      "True\n"
     ]
    }
   ],
   "source": [
    "print(unique_characters('aaabcdd'))\n",
    "print(unique_characters('sdabc'))"
   ]
  },
  {
   "attachments": {},
   "cell_type": "markdown",
   "metadata": {},
   "source": [
    "Як на мене це найлегший варіант, але можно зробити перевірку циклом, якщо мета завдання перевірити розуміння цикла for"
   ]
  },
  {
   "cell_type": "code",
   "execution_count": 33,
   "metadata": {},
   "outputs": [],
   "source": [
    "def unique_characters_for(s):\n",
    "    for i in range(len(s)):\n",
    "        for j in range(i+1, len(s)):\n",
    "            if s[i] == s[j]:\n",
    "                return False\n",
    "    return True"
   ]
  },
  {
   "cell_type": "code",
   "execution_count": 40,
   "metadata": {},
   "outputs": [
    {
     "name": "stdout",
     "output_type": "stream",
     "text": [
      "False\n",
      "True\n"
     ]
    }
   ],
   "source": [
    "print(unique_characters_for('aaabcdd'))\n",
    "print(unique_characters_for('sdabc'))"
   ]
  },
  {
   "attachments": {},
   "cell_type": "markdown",
   "metadata": {},
   "source": [
    "Також можно зробити методом count перевіряючі всі значення в циклі "
   ]
  },
  {
   "cell_type": "code",
   "execution_count": 70,
   "metadata": {},
   "outputs": [],
   "source": [
    "def unique_characters_for_count(s):\n",
    "    for i in s:\n",
    "        if s.count(i) == 1:\n",
    "            return True\n",
    "        else:\n",
    "            return False"
   ]
  },
  {
   "cell_type": "code",
   "execution_count": 71,
   "metadata": {},
   "outputs": [
    {
     "name": "stdout",
     "output_type": "stream",
     "text": [
      "False\n",
      "True\n"
     ]
    }
   ],
   "source": [
    "print(unique_characters_for_count('aaabcdd'))\n",
    "print(unique_characters_for_count('sdabc'))"
   ]
  },
  {
   "attachments": {},
   "cell_type": "markdown",
   "metadata": {},
   "source": [
    "### 3.Write a function that calculates [Fibonacci series]"
   ]
  },
  {
   "cell_type": "code",
   "execution_count": 43,
   "metadata": {},
   "outputs": [],
   "source": [
    "def fibonacci(n):\n",
    "    res = [1,1]\n",
    "    if n > 2:\n",
    "        for i in range(2, n):\n",
    "            res.append(res[i-1]+res[i-2])\n",
    "        return res[-1]    \n",
    "    else:\n",
    "        return 1    "
   ]
  },
  {
   "cell_type": "code",
   "execution_count": 52,
   "metadata": {},
   "outputs": [
    {
     "name": "stdout",
     "output_type": "stream",
     "text": [
      "55\n"
     ]
    }
   ],
   "source": [
    "print(fibonacci(10))"
   ]
  },
  {
   "attachments": {},
   "cell_type": "markdown",
   "metadata": {},
   "source": [
    "### 4. Write a function that implements case swapping. It should return the same result as swapcase() method."
   ]
  },
  {
   "cell_type": "code",
   "execution_count": 96,
   "metadata": {},
   "outputs": [],
   "source": [
    "def swapcase(input_string: str) -> str:\n",
    "    my_list = []\n",
    "    for i in input_string:\n",
    "        if i.islower():\n",
    "            my_list.append(i.upper())\n",
    "        else:\n",
    "            my_list.append(i.lower())\n",
    "    return ''.join(my_list)\n"
   ]
  },
  {
   "cell_type": "code",
   "execution_count": 97,
   "metadata": {},
   "outputs": [
    {
     "name": "stdout",
     "output_type": "stream",
     "text": [
      "AbCdd\n"
     ]
    }
   ],
   "source": [
    "print(swapcase(\"aBcDD\"))"
   ]
  },
  {
   "attachments": {},
   "cell_type": "markdown",
   "metadata": {},
   "source": [
    "### 5. Write a function that calculates the performance of a deposit in a bank account."
   ]
  },
  {
   "cell_type": "code",
   "execution_count": 104,
   "metadata": {},
   "outputs": [],
   "source": [
    "def simple_interest(initial_amount, interest_rate: float, years):\n",
    "    total = initial_amount\n",
    "    for i in range(years):\n",
    "        total += total*interest_rate\n",
    "    return round(total, 2)"
   ]
  },
  {
   "cell_type": "code",
   "execution_count": 105,
   "metadata": {},
   "outputs": [
    {
     "name": "stdout",
     "output_type": "stream",
     "text": [
      "25937.42\n"
     ]
    }
   ],
   "source": [
    "print(simple_interest(10000, 0.1, 10))\n"
   ]
  },
  {
   "attachments": {},
   "cell_type": "markdown",
   "metadata": {},
   "source": [
    "### 6. (Optional) Write a function called password_strength that takes a string password as an argument and returns a password strength "
   ]
  },
  {
   "attachments": {},
   "cell_type": "markdown",
   "metadata": {},
   "source": [
    " Length: +1 point for each character\n",
    "\n",
    "    Lowercase letters: +2 points for each unique lowercase letter\n",
    "\n",
    "    Uppercase letters: +3 points for each unique uppercase letter\n",
    "\n",
    "    Digits: +4 points for each unique digit\n",
    "\n",
    "    Special characters: +5 points for each unique special character"
   ]
  },
  {
   "cell_type": "code",
   "execution_count": 123,
   "metadata": {},
   "outputs": [],
   "source": [
    "def password_strength(password):\n",
    "    password = list(set(password))\n",
    "    points = 0\n",
    "    for i in password:\n",
    "        if i.islower():\n",
    "            points += 2\n",
    "        elif i.isupper():\n",
    "            points += 3\n",
    "        elif i.isalnum:\n",
    "            points += 5\n",
    "        else:\n",
    "            points += 4\n",
    "    return password, points"
   ]
  },
  {
   "cell_type": "code",
   "execution_count": 125,
   "metadata": {},
   "outputs": [
    {
     "name": "stdout",
     "output_type": "stream",
     "text": [
      "(['G', '#', 'a', '8', '?'], 20)\n"
     ]
    }
   ],
   "source": [
    "print(password_strength(\"aaG8?##\"))"
   ]
  },
  {
   "attachments": {},
   "cell_type": "markdown",
   "metadata": {},
   "source": [
    "### 7. (Optional) Write two functions, encrypt and decrypt, that implement the [Caesar cypher]"
   ]
  },
  {
   "cell_type": "code",
   "execution_count": 27,
   "metadata": {},
   "outputs": [],
   "source": [
    "def encrypt(message, shift):\n",
    "    alphabet = [chr(i) for i in range(65, 91)]*2\n",
    "    shifted_alphabet = [alphabet[i+shift] for i in range(26)]\n",
    "    message = list(message)\n",
    "    for let in message:\n",
    "        for i in alphabet:\n",
    "            if let == i:\n",
    "                message[message.index(let)] = shifted_alphabet[alphabet.index(i)]\n",
    "                break\n",
    "    return \"\".join(message)"
   ]
  },
  {
   "cell_type": "code",
   "execution_count": 28,
   "metadata": {},
   "outputs": [
    {
     "data": {
      "text/plain": [
       "'DEF'"
      ]
     },
     "execution_count": 28,
     "metadata": {},
     "output_type": "execute_result"
    }
   ],
   "source": [
    "encrypt(\"ABC\", 3)"
   ]
  },
  {
   "attachments": {},
   "cell_type": "markdown",
   "metadata": {},
   "source": [
    "Спосіб 2"
   ]
  },
  {
   "cell_type": "code",
   "execution_count": 33,
   "metadata": {},
   "outputs": [],
   "source": [
    "def encrypt_1(message: str, shift):\n",
    "    alphabet = \"ABCDEFGHIJKLMNOPQRSTUVWXYZ\"\n",
    "    shifted_alphabet = alphabet[shift:] + alphabet[:shift]\n",
    "    mytable = str.maketrans(alphabet, shifted_alphabet)\n",
    "    return message.upper().translate(mytable)"
   ]
  },
  {
   "cell_type": "code",
   "execution_count": 34,
   "metadata": {},
   "outputs": [
    {
     "name": "stdout",
     "output_type": "stream",
     "text": [
      "DEF\n"
     ]
    }
   ],
   "source": [
    "print(encrypt_1(\"AbC\", 3))"
   ]
  },
  {
   "cell_type": "code",
   "execution_count": 38,
   "metadata": {},
   "outputs": [],
   "source": [
    "def decrypt(message, shift):\n",
    "    decrypted_message = encrypt(message.upper(), -shift)\n",
    "    return decrypted_message\n"
   ]
  },
  {
   "cell_type": "code",
   "execution_count": 39,
   "metadata": {},
   "outputs": [
    {
     "name": "stdout",
     "output_type": "stream",
     "text": [
      "ABC\n"
     ]
    }
   ],
   "source": [
    "print(decrypt(\"DeF\", 3))"
   ]
  },
  {
   "cell_type": "code",
   "execution_count": null,
   "metadata": {},
   "outputs": [],
   "source": []
  }
 ],
 "metadata": {
  "kernelspec": {
   "display_name": "Python 3",
   "language": "python",
   "name": "python3"
  },
  "language_info": {
   "codemirror_mode": {
    "name": "ipython",
    "version": 3
   },
   "file_extension": ".py",
   "mimetype": "text/x-python",
   "name": "python",
   "nbconvert_exporter": "python",
   "pygments_lexer": "ipython3",
   "version": "3.10.4"
  },
  "orig_nbformat": 4
 },
 "nbformat": 4,
 "nbformat_minor": 2
}
